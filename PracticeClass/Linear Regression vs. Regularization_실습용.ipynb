{
 "cells": [
  {
   "cell_type": "code",
   "execution_count": 8,
   "id": "db86dc37",
   "metadata": {},
   "outputs": [],
   "source": [
    "from sklearn.linear_model import Lasso, LinearRegression, Ridge  #####LassoCV\n",
    "from sklearn.model_selection import train_test_split\n",
    "from sklearn.metrics import mean_squared_error\n",
    "import pandas as pd\n",
    "import numpy as np"
   ]
  },
  {
   "cell_type": "code",
   "execution_count": 9,
   "id": "2932afeb",
   "metadata": {},
   "outputs": [
    {
     "data": {
      "text/html": [
       "<div>\n",
       "<style scoped>\n",
       "    .dataframe tbody tr th:only-of-type {\n",
       "        vertical-align: middle;\n",
       "    }\n",
       "\n",
       "    .dataframe tbody tr th {\n",
       "        vertical-align: top;\n",
       "    }\n",
       "\n",
       "    .dataframe thead th {\n",
       "        text-align: right;\n",
       "    }\n",
       "</style>\n",
       "<table border=\"1\" class=\"dataframe\">\n",
       "  <thead>\n",
       "    <tr style=\"text-align: right;\">\n",
       "      <th></th>\n",
       "      <th>bad</th>\n",
       "      <th>purpose_1</th>\n",
       "      <th>purpose_2</th>\n",
       "      <th>purpose_3</th>\n",
       "      <th>purpose_4</th>\n",
       "      <th>purpose_5</th>\n",
       "      <th>term_1</th>\n",
       "      <th>term_2</th>\n",
       "      <th>verification_status_1</th>\n",
       "      <th>verification_status_2</th>\n",
       "      <th>...</th>\n",
       "      <th>dti</th>\n",
       "      <th>delinq_2yrs</th>\n",
       "      <th>inq_last_6mths</th>\n",
       "      <th>open_acc</th>\n",
       "      <th>pub_rec</th>\n",
       "      <th>total_acc</th>\n",
       "      <th>pub_rec_bankruptcies</th>\n",
       "      <th>emp_length</th>\n",
       "      <th>pop</th>\n",
       "      <th>urate</th>\n",
       "    </tr>\n",
       "  </thead>\n",
       "  <tbody>\n",
       "    <tr>\n",
       "      <th>0</th>\n",
       "      <td>0</td>\n",
       "      <td>1</td>\n",
       "      <td>0</td>\n",
       "      <td>0</td>\n",
       "      <td>0</td>\n",
       "      <td>0</td>\n",
       "      <td>1</td>\n",
       "      <td>0</td>\n",
       "      <td>1</td>\n",
       "      <td>0</td>\n",
       "      <td>...</td>\n",
       "      <td>11.910000</td>\n",
       "      <td>0</td>\n",
       "      <td>3</td>\n",
       "      <td>14</td>\n",
       "      <td>0</td>\n",
       "      <td>38</td>\n",
       "      <td>0</td>\n",
       "      <td>10</td>\n",
       "      <td>1437265</td>\n",
       "      <td>8.600000</td>\n",
       "    </tr>\n",
       "    <tr>\n",
       "      <th>1</th>\n",
       "      <td>0</td>\n",
       "      <td>0</td>\n",
       "      <td>1</td>\n",
       "      <td>0</td>\n",
       "      <td>0</td>\n",
       "      <td>0</td>\n",
       "      <td>1</td>\n",
       "      <td>0</td>\n",
       "      <td>0</td>\n",
       "      <td>0</td>\n",
       "      <td>...</td>\n",
       "      <td>11.140000</td>\n",
       "      <td>0</td>\n",
       "      <td>1</td>\n",
       "      <td>9</td>\n",
       "      <td>0</td>\n",
       "      <td>13</td>\n",
       "      <td>0</td>\n",
       "      <td>3</td>\n",
       "      <td>36294256</td>\n",
       "      <td>12.400000</td>\n",
       "    </tr>\n",
       "    <tr>\n",
       "      <th>2</th>\n",
       "      <td>0</td>\n",
       "      <td>1</td>\n",
       "      <td>0</td>\n",
       "      <td>0</td>\n",
       "      <td>0</td>\n",
       "      <td>0</td>\n",
       "      <td>1</td>\n",
       "      <td>0</td>\n",
       "      <td>0</td>\n",
       "      <td>1</td>\n",
       "      <td>...</td>\n",
       "      <td>12.990000</td>\n",
       "      <td>1</td>\n",
       "      <td>4</td>\n",
       "      <td>8</td>\n",
       "      <td>0</td>\n",
       "      <td>35</td>\n",
       "      <td>0</td>\n",
       "      <td>1</td>\n",
       "      <td>38014872</td>\n",
       "      <td>8.000000</td>\n",
       "    </tr>\n",
       "    <tr>\n",
       "      <th>3</th>\n",
       "      <td>0</td>\n",
       "      <td>1</td>\n",
       "      <td>0</td>\n",
       "      <td>0</td>\n",
       "      <td>0</td>\n",
       "      <td>0</td>\n",
       "      <td>1</td>\n",
       "      <td>0</td>\n",
       "      <td>0</td>\n",
       "      <td>0</td>\n",
       "      <td>...</td>\n",
       "      <td>30.620001</td>\n",
       "      <td>0</td>\n",
       "      <td>0</td>\n",
       "      <td>14</td>\n",
       "      <td>0</td>\n",
       "      <td>37</td>\n",
       "      <td>0</td>\n",
       "      <td>1</td>\n",
       "      <td>4747511</td>\n",
       "      <td>8.332258</td>\n",
       "    </tr>\n",
       "    <tr>\n",
       "      <th>4</th>\n",
       "      <td>0</td>\n",
       "      <td>1</td>\n",
       "      <td>0</td>\n",
       "      <td>0</td>\n",
       "      <td>0</td>\n",
       "      <td>0</td>\n",
       "      <td>1</td>\n",
       "      <td>0</td>\n",
       "      <td>1</td>\n",
       "      <td>0</td>\n",
       "      <td>...</td>\n",
       "      <td>6.830000</td>\n",
       "      <td>0</td>\n",
       "      <td>0</td>\n",
       "      <td>6</td>\n",
       "      <td>0</td>\n",
       "      <td>7</td>\n",
       "      <td>0</td>\n",
       "      <td>0</td>\n",
       "      <td>102868224</td>\n",
       "      <td>8.000000</td>\n",
       "    </tr>\n",
       "  </tbody>\n",
       "</table>\n",
       "<p>5 rows × 26 columns</p>\n",
       "</div>"
      ],
      "text/plain": [
       "   bad  purpose_1  purpose_2  purpose_3  purpose_4  purpose_5  term_1  term_2  \\\n",
       "0    0          1          0          0          0          0       1       0   \n",
       "1    0          0          1          0          0          0       1       0   \n",
       "2    0          1          0          0          0          0       1       0   \n",
       "3    0          1          0          0          0          0       1       0   \n",
       "4    0          1          0          0          0          0       1       0   \n",
       "\n",
       "   verification_status_1  verification_status_2  ...        dti  delinq_2yrs  \\\n",
       "0                      1                      0  ...  11.910000            0   \n",
       "1                      0                      0  ...  11.140000            0   \n",
       "2                      0                      1  ...  12.990000            1   \n",
       "3                      0                      0  ...  30.620001            0   \n",
       "4                      1                      0  ...   6.830000            0   \n",
       "\n",
       "   inq_last_6mths  open_acc  pub_rec  total_acc  pub_rec_bankruptcies  \\\n",
       "0               3        14        0         38                     0   \n",
       "1               1         9        0         13                     0   \n",
       "2               4         8        0         35                     0   \n",
       "3               0        14        0         37                     0   \n",
       "4               0         6        0          7                     0   \n",
       "\n",
       "   emp_length        pop      urate  \n",
       "0          10    1437265   8.600000  \n",
       "1           3   36294256  12.400000  \n",
       "2           1   38014872   8.000000  \n",
       "3           1    4747511   8.332258  \n",
       "4           0  102868224   8.000000  \n",
       "\n",
       "[5 rows x 26 columns]"
      ]
     },
     "execution_count": 9,
     "metadata": {},
     "output_type": "execute_result"
    }
   ],
   "source": [
    "df = pd.read_csv('Lending_Club_Data_Subsample.csv')\n",
    "df.head()\n",
    "\n",
    "# bad: 부도여부\n",
    "# purpose_i : 대출목적(원래는 10개 내외 정도의 목적이 있으나, 여기서는 일부만)\n",
    "# term_i: 대출실행기간\n",
    "# verification status: Lending club에 의해 소득이 검증되었는지, 또는 소득 출처가 검증되었는지\n",
    "# initial status: 대출의 최초 상태\n",
    "# dti: Debt to Income"
   ]
  },
  {
   "cell_type": "code",
   "execution_count": 11,
   "id": "7c568852",
   "metadata": {},
   "outputs": [
    {
     "data": {
      "text/plain": [
       "Index(['bad', 'purpose_1', 'purpose_2', 'purpose_3', 'purpose_4', 'purpose_5',\n",
       "       'term_1', 'term_2', 'verification_status_1', 'verification_status_2',\n",
       "       'verification_status_3', 'initial_list_status_1',\n",
       "       'initial_list_status_2', 'loan_amnt', 'installment', 'annual_inc',\n",
       "       'dti', 'delinq_2yrs', 'inq_last_6mths', 'open_acc', 'pub_rec',\n",
       "       'total_acc', 'pub_rec_bankruptcies', 'emp_length', 'pop', 'urate'],\n",
       "      dtype='object')"
      ]
     },
     "execution_count": 11,
     "metadata": {},
     "output_type": "execute_result"
    }
   ],
   "source": [
    "df.columns"
   ]
  },
  {
   "cell_type": "code",
   "execution_count": 4,
   "id": "2d9308bd",
   "metadata": {},
   "outputs": [
    {
     "name": "stdout",
     "output_type": "stream",
     "text": [
      "<class 'pandas.core.frame.DataFrame'>\n",
      "RangeIndex: 1000 entries, 0 to 999\n",
      "Data columns (total 26 columns):\n",
      " #   Column                 Non-Null Count  Dtype  \n",
      "---  ------                 --------------  -----  \n",
      " 0   bad                    1000 non-null   int64  \n",
      " 1   purpose_1              1000 non-null   int64  \n",
      " 2   purpose_2              1000 non-null   int64  \n",
      " 3   purpose_3              1000 non-null   int64  \n",
      " 4   purpose_4              1000 non-null   int64  \n",
      " 5   purpose_5              1000 non-null   int64  \n",
      " 6   term_1                 1000 non-null   int64  \n",
      " 7   term_2                 1000 non-null   int64  \n",
      " 8   verification_status_1  1000 non-null   int64  \n",
      " 9   verification_status_2  1000 non-null   int64  \n",
      " 10  verification_status_3  1000 non-null   int64  \n",
      " 11  initial_list_status_1  1000 non-null   int64  \n",
      " 12  initial_list_status_2  1000 non-null   int64  \n",
      " 13  loan_amnt              1000 non-null   int64  \n",
      " 14  installment            1000 non-null   float64\n",
      " 15  annual_inc             1000 non-null   float64\n",
      " 16  dti                    1000 non-null   float64\n",
      " 17  delinq_2yrs            1000 non-null   int64  \n",
      " 18  inq_last_6mths         1000 non-null   int64  \n",
      " 19  open_acc               1000 non-null   int64  \n",
      " 20  pub_rec                1000 non-null   int64  \n",
      " 21  total_acc              1000 non-null   int64  \n",
      " 22  pub_rec_bankruptcies   1000 non-null   int64  \n",
      " 23  emp_length             1000 non-null   int64  \n",
      " 24  pop                    1000 non-null   int64  \n",
      " 25  urate                  1000 non-null   float64\n",
      "dtypes: float64(4), int64(22)\n",
      "memory usage: 203.2 KB\n"
     ]
    }
   ],
   "source": [
    "df.info()"
   ]
  },
  {
   "cell_type": "code",
   "execution_count": 16,
   "id": "13615aac",
   "metadata": {},
   "outputs": [
    {
     "data": {
      "text/html": [
       "<div>\n",
       "<style scoped>\n",
       "    .dataframe tbody tr th:only-of-type {\n",
       "        vertical-align: middle;\n",
       "    }\n",
       "\n",
       "    .dataframe tbody tr th {\n",
       "        vertical-align: top;\n",
       "    }\n",
       "\n",
       "    .dataframe thead th {\n",
       "        text-align: right;\n",
       "    }\n",
       "</style>\n",
       "<table border=\"1\" class=\"dataframe\">\n",
       "  <thead>\n",
       "    <tr style=\"text-align: right;\">\n",
       "      <th></th>\n",
       "      <th>bad</th>\n",
       "      <th>purpose_1</th>\n",
       "      <th>purpose_2</th>\n",
       "      <th>purpose_3</th>\n",
       "      <th>purpose_4</th>\n",
       "      <th>purpose_5</th>\n",
       "      <th>term_1</th>\n",
       "      <th>term_2</th>\n",
       "      <th>verification_status_1</th>\n",
       "      <th>verification_status_2</th>\n",
       "      <th>...</th>\n",
       "      <th>dti</th>\n",
       "      <th>delinq_2yrs</th>\n",
       "      <th>inq_last_6mths</th>\n",
       "      <th>open_acc</th>\n",
       "      <th>pub_rec</th>\n",
       "      <th>total_acc</th>\n",
       "      <th>pub_rec_bankruptcies</th>\n",
       "      <th>emp_length</th>\n",
       "      <th>pop</th>\n",
       "      <th>urate</th>\n",
       "    </tr>\n",
       "  </thead>\n",
       "  <tbody>\n",
       "    <tr>\n",
       "      <th>0</th>\n",
       "      <td>0</td>\n",
       "      <td>1</td>\n",
       "      <td>0</td>\n",
       "      <td>0</td>\n",
       "      <td>0</td>\n",
       "      <td>0</td>\n",
       "      <td>1</td>\n",
       "      <td>0</td>\n",
       "      <td>1</td>\n",
       "      <td>0</td>\n",
       "      <td>...</td>\n",
       "      <td>-0.435968</td>\n",
       "      <td>0</td>\n",
       "      <td>3</td>\n",
       "      <td>0.878872</td>\n",
       "      <td>-0.25324</td>\n",
       "      <td>1.424470</td>\n",
       "      <td>0</td>\n",
       "      <td>10</td>\n",
       "      <td>1437265</td>\n",
       "      <td>8.600000</td>\n",
       "    </tr>\n",
       "    <tr>\n",
       "      <th>1</th>\n",
       "      <td>0</td>\n",
       "      <td>0</td>\n",
       "      <td>1</td>\n",
       "      <td>0</td>\n",
       "      <td>0</td>\n",
       "      <td>0</td>\n",
       "      <td>1</td>\n",
       "      <td>0</td>\n",
       "      <td>0</td>\n",
       "      <td>0</td>\n",
       "      <td>...</td>\n",
       "      <td>-0.537757</td>\n",
       "      <td>0</td>\n",
       "      <td>1</td>\n",
       "      <td>-0.246444</td>\n",
       "      <td>-0.25324</td>\n",
       "      <td>-0.838605</td>\n",
       "      <td>0</td>\n",
       "      <td>3</td>\n",
       "      <td>36294256</td>\n",
       "      <td>12.400000</td>\n",
       "    </tr>\n",
       "    <tr>\n",
       "      <th>2</th>\n",
       "      <td>0</td>\n",
       "      <td>1</td>\n",
       "      <td>0</td>\n",
       "      <td>0</td>\n",
       "      <td>0</td>\n",
       "      <td>0</td>\n",
       "      <td>1</td>\n",
       "      <td>0</td>\n",
       "      <td>0</td>\n",
       "      <td>1</td>\n",
       "      <td>...</td>\n",
       "      <td>-0.293198</td>\n",
       "      <td>1</td>\n",
       "      <td>4</td>\n",
       "      <td>-0.471508</td>\n",
       "      <td>-0.25324</td>\n",
       "      <td>1.152901</td>\n",
       "      <td>0</td>\n",
       "      <td>1</td>\n",
       "      <td>38014872</td>\n",
       "      <td>8.000000</td>\n",
       "    </tr>\n",
       "    <tr>\n",
       "      <th>3</th>\n",
       "      <td>0</td>\n",
       "      <td>1</td>\n",
       "      <td>0</td>\n",
       "      <td>0</td>\n",
       "      <td>0</td>\n",
       "      <td>0</td>\n",
       "      <td>1</td>\n",
       "      <td>0</td>\n",
       "      <td>0</td>\n",
       "      <td>0</td>\n",
       "      <td>...</td>\n",
       "      <td>2.037388</td>\n",
       "      <td>0</td>\n",
       "      <td>0</td>\n",
       "      <td>0.878872</td>\n",
       "      <td>-0.25324</td>\n",
       "      <td>1.333947</td>\n",
       "      <td>0</td>\n",
       "      <td>1</td>\n",
       "      <td>4747511</td>\n",
       "      <td>8.332258</td>\n",
       "    </tr>\n",
       "    <tr>\n",
       "      <th>4</th>\n",
       "      <td>0</td>\n",
       "      <td>1</td>\n",
       "      <td>0</td>\n",
       "      <td>0</td>\n",
       "      <td>0</td>\n",
       "      <td>0</td>\n",
       "      <td>1</td>\n",
       "      <td>0</td>\n",
       "      <td>1</td>\n",
       "      <td>0</td>\n",
       "      <td>...</td>\n",
       "      <td>-1.107515</td>\n",
       "      <td>0</td>\n",
       "      <td>0</td>\n",
       "      <td>-0.921634</td>\n",
       "      <td>-0.25324</td>\n",
       "      <td>-1.381743</td>\n",
       "      <td>0</td>\n",
       "      <td>0</td>\n",
       "      <td>102868224</td>\n",
       "      <td>8.000000</td>\n",
       "    </tr>\n",
       "  </tbody>\n",
       "</table>\n",
       "<p>5 rows × 26 columns</p>\n",
       "</div>"
      ],
      "text/plain": [
       "   bad  purpose_1  purpose_2  purpose_3  purpose_4  purpose_5  term_1  term_2  \\\n",
       "0    0          1          0          0          0          0       1       0   \n",
       "1    0          0          1          0          0          0       1       0   \n",
       "2    0          1          0          0          0          0       1       0   \n",
       "3    0          1          0          0          0          0       1       0   \n",
       "4    0          1          0          0          0          0       1       0   \n",
       "\n",
       "   verification_status_1  verification_status_2  ...       dti  delinq_2yrs  \\\n",
       "0                      1                      0  ... -0.435968            0   \n",
       "1                      0                      0  ... -0.537757            0   \n",
       "2                      0                      1  ... -0.293198            1   \n",
       "3                      0                      0  ...  2.037388            0   \n",
       "4                      1                      0  ... -1.107515            0   \n",
       "\n",
       "   inq_last_6mths  open_acc  pub_rec  total_acc  pub_rec_bankruptcies  \\\n",
       "0               3  0.878872 -0.25324   1.424470                     0   \n",
       "1               1 -0.246444 -0.25324  -0.838605                     0   \n",
       "2               4 -0.471508 -0.25324   1.152901                     0   \n",
       "3               0  0.878872 -0.25324   1.333947                     0   \n",
       "4               0 -0.921634 -0.25324  -1.381743                     0   \n",
       "\n",
       "   emp_length        pop      urate  \n",
       "0          10    1437265   8.600000  \n",
       "1           3   36294256  12.400000  \n",
       "2           1   38014872   8.000000  \n",
       "3           1    4747511   8.332258  \n",
       "4           0  102868224   8.000000  \n",
       "\n",
       "[5 rows x 26 columns]"
      ]
     },
     "execution_count": 16,
     "metadata": {},
     "output_type": "execute_result"
    }
   ],
   "source": [
    "from sklearn.preprocessing import StandardScaler\n",
    "\n",
    "scaler = StandardScaler()  #####Lasso에서 표준화 작업이 필요하다.\n",
    "col_standardize =['loan_amnt', 'installment', 'annual_inc','dti','open_acc','pub_rec','total_acc']\n",
    "###더미 변수는 표준화 하지 않음\n",
    "\n",
    "df[col_standardize]= scaler.fit_transform(df[col_standardize])\n",
    "df.head()\n"
   ]
  },
  {
   "cell_type": "code",
   "execution_count": 17,
   "id": "a3054d08",
   "metadata": {},
   "outputs": [
    {
     "data": {
      "text/plain": [
       "1.0000000000000016"
      ]
     },
     "execution_count": 17,
     "metadata": {},
     "output_type": "execute_result"
    }
   ],
   "source": [
    "np.var(df.installment)"
   ]
  },
  {
   "cell_type": "code",
   "execution_count": 18,
   "id": "c77b438c",
   "metadata": {},
   "outputs": [],
   "source": [
    "X = df.drop(['bad'], axis=1)\n",
    "y = df['bad']"
   ]
  },
  {
   "cell_type": "code",
   "execution_count": null,
   "id": "089acb06",
   "metadata": {},
   "outputs": [],
   "source": []
  },
  {
   "cell_type": "code",
   "execution_count": null,
   "id": "7a03c19b",
   "metadata": {},
   "outputs": [],
   "source": [
    "X_train, X_test, y_train, y_test = train_test_split(X, y, test_size=0.2, random_state=131)"
   ]
  },
  {
   "cell_type": "code",
   "execution_count": 19,
   "id": "b100f8bb",
   "metadata": {},
   "outputs": [],
   "source": [
    "X = X = df.drop(['bad'], axis=1)\n",
    "y = df['bad']\n",
    "X_train, X_test, y_train, y_test = train_test_split(X, y, test_size=0.2, random_state=131)"
   ]
  },
  {
   "cell_type": "code",
   "execution_count": 24,
   "id": "cd142685",
   "metadata": {},
   "outputs": [
    {
     "name": "stdout",
     "output_type": "stream",
     "text": [
      "[-1.80194594e-01 -1.10638125e-01 -1.89448768e-01  6.41683690e-01\n",
      " -1.61402205e-01 -2.82712486e-02  2.82712486e-02 -1.92308977e-02\n",
      " -1.32320692e-02  3.24629670e-02  1.49446133e-02 -1.49446133e-02\n",
      "  2.07545013e-02 -1.13710959e-02 -1.73173086e-02  2.64346347e-02\n",
      " -3.04317081e-03  2.65423824e-02 -1.12056319e-03 -3.62360503e-02\n",
      " -3.34802482e-03  2.22156842e-01 -3.20713721e-03  9.08191393e-11\n",
      " -6.91498926e-05]\n",
      "0.2903510139395054\n"
     ]
    }
   ],
   "source": [
    "# Linear Regression model\n",
    "linear = LinearRegression()\n",
    "linear.fit(X_train, y_train)\n",
    "\n",
    "print(linear.coef_)\n",
    "print(linear.intercept_)"
   ]
  },
  {
   "cell_type": "code",
   "execution_count": 25,
   "id": "87913cf0",
   "metadata": {
    "scrolled": true
   },
   "outputs": [
    {
     "name": "stdout",
     "output_type": "stream",
     "text": [
      "Mean Squared Error of linear regression model is 0.1306162520492772\n"
     ]
    }
   ],
   "source": [
    "y_pred_linear = linear.predict(X_test)\n",
    "mse = mean_squared_error(y_test, y_pred_linear)\n",
    "print(\"Mean Squared Error of linear regression model is\", mse)"
   ]
  },
  {
   "cell_type": "code",
   "execution_count": 30,
   "id": "51994943",
   "metadata": {},
   "outputs": [
    {
     "name": "stdout",
     "output_type": "stream",
     "text": [
      "[-1.48360796e-02  2.89428657e-02 -1.98601611e-02  0.00000000e+00\n",
      "  0.00000000e+00 -4.24621756e-02  8.80910905e-17 -3.94289651e-03\n",
      " -0.00000000e+00  4.11631306e-02  2.12358641e-02 -8.64184589e-17\n",
      "  5.93323344e-03  0.00000000e+00 -1.41847635e-02  2.52216929e-02\n",
      " -3.44195590e-03  2.82083909e-02 -6.97439474e-04 -1.46415956e-02\n",
      " -0.00000000e+00  1.18873605e-01 -3.05867084e-03  8.79507335e-11\n",
      "  5.36435634e-04]\n",
      "0.1202977012914331\n"
     ]
    }
   ],
   "source": [
    "# Least Absolute Shrinkage and Selection Operator\n",
    "lasso = Lasso(alpha= 0.001)\n",
    "###STATA도 grid search  <- recommend!!!!!!  \n",
    "lasso.fit( X_train, y_train)\n",
    "###estimation 하는데 시간이 많이 걸림\n",
    "\n",
    "print(lasso.coef_)\n",
    "print(lasso.intercept_)"
   ]
  },
  {
   "cell_type": "code",
   "execution_count": 31,
   "id": "11999e4c",
   "metadata": {},
   "outputs": [
    {
     "name": "stdout",
     "output_type": "stream",
     "text": [
      "Mean Squared Error of lasso is 0.1292702833243109\n"
     ]
    }
   ],
   "source": [
    "y_pred_lasso = lasso.predict(X_test)\n",
    "mse = mean_squared_error(y_test, y_pred_lasso)\n",
    "print(\"Mean Squared Error of lasso is\", mse)\n",
    "\n",
    "#### lambda 분포와 그 때의 \n",
    "##  logistics 에서 l1을 0을 적으면 바로 lasso가 된다"
   ]
  },
  {
   "cell_type": "code",
   "execution_count": 32,
   "id": "a64f6779",
   "metadata": {},
   "outputs": [
    {
     "name": "stdout",
     "output_type": "stream",
     "text": [
      "[-1.33428239e-01 -6.32348750e-02 -1.42625522e-01  4.54042764e-01\n",
      " -1.14754128e-01 -2.80649584e-02  2.80649584e-02 -1.88596919e-02\n",
      " -1.31557817e-02  3.20154735e-02  1.50240035e-02 -1.50240035e-02\n",
      "  1.95618178e-02 -1.06546913e-02 -1.67738763e-02  2.64735358e-02\n",
      " -3.46044799e-03  2.73004124e-02 -1.08489567e-03 -3.38588174e-02\n",
      " -2.77587128e-03  2.10322554e-01 -3.17892861e-03  9.04444449e-11\n",
      "  1.66433933e-05]\n",
      "0.24265692382049728\n"
     ]
    },
    {
     "name": "stderr",
     "output_type": "stream",
     "text": [
      "/Users/go-eun/anaconda3/lib/python3.10/site-packages/sklearn/linear_model/_ridge.py:216: LinAlgWarning: Ill-conditioned matrix (rcond=1.95249e-20): result may not be accurate.\n",
      "  return linalg.solve(A, Xy, assume_a=\"pos\", overwrite_a=True).T\n"
     ]
    }
   ],
   "source": [
    "ridge = Ridge(alpha= 0.5)\n",
    "\n",
    "ridge.fit(X_train, y_train)\n",
    "\n",
    "print(ridge.coef_)\n",
    "print(ridge.intercept_)"
   ]
  },
  {
   "cell_type": "code",
   "execution_count": 33,
   "id": "c15205e8",
   "metadata": {},
   "outputs": [
    {
     "name": "stdout",
     "output_type": "stream",
     "text": [
      "Mean Squared Error of lasso is 0.13053191290454527\n"
     ]
    }
   ],
   "source": [
    "y_pred_ridge = ridge.predict(X_test)\n",
    "mse = mean_squared_error(y_test, y_pred_ridge)\n",
    "print(\"Mean Squared Error of lasso is\", mse)"
   ]
  },
  {
   "cell_type": "code",
   "execution_count": null,
   "id": "02a6ac06",
   "metadata": {},
   "outputs": [],
   "source": []
  }
 ],
 "metadata": {
  "kernelspec": {
   "display_name": "Python 3 (ipykernel)",
   "language": "python",
   "name": "python3"
  },
  "language_info": {
   "codemirror_mode": {
    "name": "ipython",
    "version": 3
   },
   "file_extension": ".py",
   "mimetype": "text/x-python",
   "name": "python",
   "nbconvert_exporter": "python",
   "pygments_lexer": "ipython3",
   "version": "3.10.9"
  }
 },
 "nbformat": 4,
 "nbformat_minor": 5
}
