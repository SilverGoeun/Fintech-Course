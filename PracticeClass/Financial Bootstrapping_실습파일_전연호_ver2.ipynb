{
 "cells": [
  {
   "cell_type": "markdown",
   "id": "d9b34f94",
   "metadata": {},
   "source": [
    "# 이번 코드의 특징 \n",
    "## 1) 이번엔 shift(-1)로 한칸 당겨서 계산했습니다. why: 인덱싱이 더 직관적\n",
    "## 2) 로그 수익률을 그대로 사용했습니다. np.exp(누적로그수익률) -> 1+누적로그수익률\n",
    "## 3) 종혁님의 종목을 사용해서 진행했습니다. 따라서 이상치 문제는 없어 코드가 짧습니다. "
   ]
  },
  {
   "cell_type": "code",
   "execution_count": 67,
   "id": "275a003d",
   "metadata": {
    "id": "275a003d"
   },
   "outputs": [],
   "source": [
    "import pykrx\n",
    "from pykrx import stock\n",
    "import numpy as np\n",
    "import pandas as pd\n",
    "import matplotlib.pyplot as plt\n",
    "#help(pykrx)"
   ]
  },
  {
   "cell_type": "code",
   "execution_count": 114,
   "id": "e083bb04",
   "metadata": {
    "id": "e083bb04"
   },
   "outputs": [],
   "source": [
    "# 1. 데이터 소개\n",
    "\n",
    "# bond도 가능함\n",
    "# from pykrx import bond\n",
    "\n",
    "# https://github.com/sharebook-kr/pykrx\n",
    "\n",
    "# tickers = stock.get_market_ticker_list(조회일자(YYYYmmdd) [,market=조회할 시장(KOSPI, KOSDAQ, ALL])\n",
    "# name = get_market_ticker_name(심볼 [,market=조회할 시장(KOSPI, KOSDAQ, ALL])\n",
    "# ohlcv = stock.stock.get_market_ohlcv(조회일자(YYYYmmdd) [,앞에 시작일을 넣었다면 종료일] [,심볼] )\n",
    "\n",
    "# 예시\n",
    "\n",
    "start_date= '20130101'\n",
    "end_date= '20221231'\n",
    "ticker = '002310'     #아세아제지\n",
    "name= stock.get_market_ticker_name(ticker)\n",
    "\n",
    "ohlcv = stock.get_market_ohlcv(\"20220222\", market=\"KOSPI\") # 특정일 코스피 종목들의 OHLCV\n",
    "raw = stock.get_market_ohlcv(start_date,end_date,ticker) # 특정기간 특정 종목의 OHLCV"
   ]
  },
  {
   "cell_type": "code",
   "execution_count": 115,
   "id": "299ef726",
   "metadata": {},
   "outputs": [
    {
     "data": {
      "text/html": [
       "<div>\n",
       "<style scoped>\n",
       "    .dataframe tbody tr th:only-of-type {\n",
       "        vertical-align: middle;\n",
       "    }\n",
       "\n",
       "    .dataframe tbody tr th {\n",
       "        vertical-align: top;\n",
       "    }\n",
       "\n",
       "    .dataframe thead th {\n",
       "        text-align: right;\n",
       "    }\n",
       "</style>\n",
       "<table border=\"1\" class=\"dataframe\">\n",
       "  <thead>\n",
       "    <tr style=\"text-align: right;\">\n",
       "      <th></th>\n",
       "      <th>ticker</th>\n",
       "      <th>name</th>\n",
       "    </tr>\n",
       "  </thead>\n",
       "  <tbody>\n",
       "    <tr>\n",
       "      <th>0</th>\n",
       "      <td>095570</td>\n",
       "      <td>AJ네트웍스</td>\n",
       "    </tr>\n",
       "    <tr>\n",
       "      <th>1</th>\n",
       "      <td>006840</td>\n",
       "      <td>AK홀딩스</td>\n",
       "    </tr>\n",
       "    <tr>\n",
       "      <th>2</th>\n",
       "      <td>027410</td>\n",
       "      <td>BGF</td>\n",
       "    </tr>\n",
       "    <tr>\n",
       "      <th>3</th>\n",
       "      <td>282330</td>\n",
       "      <td>BGF리테일</td>\n",
       "    </tr>\n",
       "    <tr>\n",
       "      <th>4</th>\n",
       "      <td>138930</td>\n",
       "      <td>BNK금융지주</td>\n",
       "    </tr>\n",
       "    <tr>\n",
       "      <th>...</th>\n",
       "      <td>...</td>\n",
       "      <td>...</td>\n",
       "    </tr>\n",
       "    <tr>\n",
       "      <th>935</th>\n",
       "      <td>069260</td>\n",
       "      <td>TKG휴켐스</td>\n",
       "    </tr>\n",
       "    <tr>\n",
       "      <th>936</th>\n",
       "      <td>000540</td>\n",
       "      <td>흥국화재</td>\n",
       "    </tr>\n",
       "    <tr>\n",
       "      <th>937</th>\n",
       "      <td>000547</td>\n",
       "      <td>흥국화재2우B</td>\n",
       "    </tr>\n",
       "    <tr>\n",
       "      <th>938</th>\n",
       "      <td>000545</td>\n",
       "      <td>흥국화재우</td>\n",
       "    </tr>\n",
       "    <tr>\n",
       "      <th>939</th>\n",
       "      <td>003280</td>\n",
       "      <td>흥아해운</td>\n",
       "    </tr>\n",
       "  </tbody>\n",
       "</table>\n",
       "<p>940 rows × 2 columns</p>\n",
       "</div>"
      ],
      "text/plain": [
       "     ticker     name\n",
       "0    095570   AJ네트웍스\n",
       "1    006840    AK홀딩스\n",
       "2    027410      BGF\n",
       "3    282330   BGF리테일\n",
       "4    138930  BNK금융지주\n",
       "..      ...      ...\n",
       "935  069260   TKG휴켐스\n",
       "936  000540     흥국화재\n",
       "937  000547  흥국화재2우B\n",
       "938  000545    흥국화재우\n",
       "939  003280     흥아해운\n",
       "\n",
       "[940 rows x 2 columns]"
      ]
     },
     "execution_count": 115,
     "metadata": {},
     "output_type": "execute_result"
    }
   ],
   "source": [
    "# 코스피 상장 기업 리스트 데이터셋\n",
    "\n",
    "tickers = stock.get_market_ticker_list(\"20220222\", market=\"KOSPI\") # 코스피 종목 리스트\n",
    "names = [stock.get_market_ticker_name(i) for i in tickers]         # 티커 -> 기업 이름\n",
    "\n",
    "\n",
    "kospi_listed= pd.DataFrame({'ticker': tickers , 'name': names  })\n",
    "kospi_listed\n"
   ]
  },
  {
   "cell_type": "code",
   "execution_count": 116,
   "id": "62df33f6",
   "metadata": {},
   "outputs": [
    {
     "data": {
      "text/html": [
       "<div>\n",
       "<style scoped>\n",
       "    .dataframe tbody tr th:only-of-type {\n",
       "        vertical-align: middle;\n",
       "    }\n",
       "\n",
       "    .dataframe tbody tr th {\n",
       "        vertical-align: top;\n",
       "    }\n",
       "\n",
       "    .dataframe thead th {\n",
       "        text-align: right;\n",
       "    }\n",
       "</style>\n",
       "<table border=\"1\" class=\"dataframe\">\n",
       "  <thead>\n",
       "    <tr style=\"text-align: right;\">\n",
       "      <th></th>\n",
       "      <th>ticker</th>\n",
       "      <th>name</th>\n",
       "    </tr>\n",
       "  </thead>\n",
       "  <tbody>\n",
       "    <tr>\n",
       "      <th>548</th>\n",
       "      <td>002310</td>\n",
       "      <td>아세아제지</td>\n",
       "    </tr>\n",
       "  </tbody>\n",
       "</table>\n",
       "</div>"
      ],
      "text/plain": [
       "     ticker   name\n",
       "548  002310  아세아제지"
      ]
     },
     "execution_count": 116,
     "metadata": {},
     "output_type": "execute_result"
    }
   ],
   "source": [
    "# 잘 대응되었나 확인\n",
    "\n",
    "kospi_listed[ kospi_listed['ticker'] == ticker ]"
   ]
  },
  {
   "cell_type": "code",
   "execution_count": 117,
   "id": "01979b80",
   "metadata": {
    "colab": {
     "base_uri": "https://localhost:8080/",
     "height": 235
    },
    "id": "01979b80",
    "outputId": "ca0f7e35-5319-48d7-de42-4de6120c3686"
   },
   "outputs": [
    {
     "data": {
      "text/html": [
       "<div>\n",
       "<style scoped>\n",
       "    .dataframe tbody tr th:only-of-type {\n",
       "        vertical-align: middle;\n",
       "    }\n",
       "\n",
       "    .dataframe tbody tr th {\n",
       "        vertical-align: top;\n",
       "    }\n",
       "\n",
       "    .dataframe thead th {\n",
       "        text-align: right;\n",
       "    }\n",
       "</style>\n",
       "<table border=\"1\" class=\"dataframe\">\n",
       "  <thead>\n",
       "    <tr style=\"text-align: right;\">\n",
       "      <th></th>\n",
       "      <th>시가</th>\n",
       "      <th>고가</th>\n",
       "      <th>저가</th>\n",
       "      <th>종가</th>\n",
       "      <th>거래량</th>\n",
       "      <th>거래대금</th>\n",
       "      <th>등락률</th>\n",
       "    </tr>\n",
       "    <tr>\n",
       "      <th>날짜</th>\n",
       "      <th></th>\n",
       "      <th></th>\n",
       "      <th></th>\n",
       "      <th></th>\n",
       "      <th></th>\n",
       "      <th></th>\n",
       "      <th></th>\n",
       "    </tr>\n",
       "  </thead>\n",
       "  <tbody>\n",
       "    <tr>\n",
       "      <th>2022-12-23</th>\n",
       "      <td>39050</td>\n",
       "      <td>39400</td>\n",
       "      <td>38350</td>\n",
       "      <td>39150</td>\n",
       "      <td>29839</td>\n",
       "      <td>1161280550</td>\n",
       "      <td>-0.13</td>\n",
       "    </tr>\n",
       "    <tr>\n",
       "      <th>2022-12-26</th>\n",
       "      <td>39000</td>\n",
       "      <td>39600</td>\n",
       "      <td>38750</td>\n",
       "      <td>39400</td>\n",
       "      <td>14244</td>\n",
       "      <td>560669350</td>\n",
       "      <td>0.64</td>\n",
       "    </tr>\n",
       "    <tr>\n",
       "      <th>2022-12-27</th>\n",
       "      <td>39100</td>\n",
       "      <td>39450</td>\n",
       "      <td>38700</td>\n",
       "      <td>39400</td>\n",
       "      <td>28728</td>\n",
       "      <td>1122859400</td>\n",
       "      <td>0.00</td>\n",
       "    </tr>\n",
       "    <tr>\n",
       "      <th>2022-12-28</th>\n",
       "      <td>39200</td>\n",
       "      <td>39850</td>\n",
       "      <td>38650</td>\n",
       "      <td>39700</td>\n",
       "      <td>36691</td>\n",
       "      <td>1446375450</td>\n",
       "      <td>0.76</td>\n",
       "    </tr>\n",
       "    <tr>\n",
       "      <th>2022-12-29</th>\n",
       "      <td>39700</td>\n",
       "      <td>39700</td>\n",
       "      <td>38950</td>\n",
       "      <td>39400</td>\n",
       "      <td>20007</td>\n",
       "      <td>786583900</td>\n",
       "      <td>-0.76</td>\n",
       "    </tr>\n",
       "  </tbody>\n",
       "</table>\n",
       "</div>"
      ],
      "text/plain": [
       "               시가     고가     저가     종가    거래량        거래대금   등락률\n",
       "날짜                                                             \n",
       "2022-12-23  39050  39400  38350  39150  29839  1161280550 -0.13\n",
       "2022-12-26  39000  39600  38750  39400  14244   560669350  0.64\n",
       "2022-12-27  39100  39450  38700  39400  28728  1122859400  0.00\n",
       "2022-12-28  39200  39850  38650  39700  36691  1446375450  0.76\n",
       "2022-12-29  39700  39700  38950  39400  20007   786583900 -0.76"
      ]
     },
     "execution_count": 117,
     "metadata": {},
     "output_type": "execute_result"
    }
   ],
   "source": [
    "raw.tail()"
   ]
  },
  {
   "cell_type": "code",
   "execution_count": 118,
   "id": "33f63514",
   "metadata": {
    "id": "33f63514"
   },
   "outputs": [],
   "source": [
    " # 2. 수익률 계산하기\n",
    "df=pd.DataFrame(raw['종가'])\n",
    "df=df.rename(columns={'종가':'close'})"
   ]
  },
  {
   "cell_type": "code",
   "execution_count": 119,
   "id": "08052210",
   "metadata": {
    "colab": {
     "base_uri": "https://localhost:8080/",
     "height": 235
    },
    "id": "08052210",
    "outputId": "8c1f7dc9-c578-4adf-8f0f-1ebcc3422303"
   },
   "outputs": [
    {
     "data": {
      "text/html": [
       "<div>\n",
       "<style scoped>\n",
       "    .dataframe tbody tr th:only-of-type {\n",
       "        vertical-align: middle;\n",
       "    }\n",
       "\n",
       "    .dataframe tbody tr th {\n",
       "        vertical-align: top;\n",
       "    }\n",
       "\n",
       "    .dataframe thead th {\n",
       "        text-align: right;\n",
       "    }\n",
       "</style>\n",
       "<table border=\"1\" class=\"dataframe\">\n",
       "  <thead>\n",
       "    <tr style=\"text-align: right;\">\n",
       "      <th></th>\n",
       "      <th>close</th>\n",
       "    </tr>\n",
       "    <tr>\n",
       "      <th>날짜</th>\n",
       "      <th></th>\n",
       "    </tr>\n",
       "  </thead>\n",
       "  <tbody>\n",
       "    <tr>\n",
       "      <th>2013-01-02</th>\n",
       "      <td>15000</td>\n",
       "    </tr>\n",
       "    <tr>\n",
       "      <th>2013-01-03</th>\n",
       "      <td>15000</td>\n",
       "    </tr>\n",
       "    <tr>\n",
       "      <th>2013-01-04</th>\n",
       "      <td>14950</td>\n",
       "    </tr>\n",
       "    <tr>\n",
       "      <th>2013-01-07</th>\n",
       "      <td>14850</td>\n",
       "    </tr>\n",
       "    <tr>\n",
       "      <th>2013-01-08</th>\n",
       "      <td>14850</td>\n",
       "    </tr>\n",
       "  </tbody>\n",
       "</table>\n",
       "</div>"
      ],
      "text/plain": [
       "            close\n",
       "날짜               \n",
       "2013-01-02  15000\n",
       "2013-01-03  15000\n",
       "2013-01-04  14950\n",
       "2013-01-07  14850\n",
       "2013-01-08  14850"
      ]
     },
     "execution_count": 119,
     "metadata": {},
     "output_type": "execute_result"
    }
   ],
   "source": [
    "df.head()"
   ]
  },
  {
   "cell_type": "markdown",
   "id": "bff3071e",
   "metadata": {},
   "source": [
    "## 이번 코드에선 shift(-1) 뒤로 한칸 땡겨서 해보기"
   ]
  },
  {
   "cell_type": "code",
   "execution_count": 120,
   "id": "8820bf19",
   "metadata": {},
   "outputs": [
    {
     "data": {
      "text/plain": [
       "날짜\n",
       "2013-01-02    15000.0\n",
       "2013-01-03    14950.0\n",
       "2013-01-04    14850.0\n",
       "2013-01-07    14850.0\n",
       "2013-01-08    14900.0\n",
       "               ...   \n",
       "2022-12-23    39400.0\n",
       "2022-12-26    39400.0\n",
       "2022-12-27    39700.0\n",
       "2022-12-28    39400.0\n",
       "2022-12-29        NaN\n",
       "Name: close, Length: 2461, dtype: float64"
      ]
     },
     "execution_count": 120,
     "metadata": {},
     "output_type": "execute_result"
    }
   ],
   "source": [
    "df['close'].shift(-1) # shift(-1)로 하면 마지막에 NA"
   ]
  },
  {
   "cell_type": "code",
   "execution_count": 121,
   "id": "1a1d6835",
   "metadata": {},
   "outputs": [],
   "source": [
    "# 헷갈리니까 열을 만들어서\n",
    "\n",
    "df['close_tomorrow'] = df['close'].shift(-1)"
   ]
  },
  {
   "cell_type": "code",
   "execution_count": 122,
   "id": "bc32f067",
   "metadata": {},
   "outputs": [
    {
     "data": {
      "text/html": [
       "<div>\n",
       "<style scoped>\n",
       "    .dataframe tbody tr th:only-of-type {\n",
       "        vertical-align: middle;\n",
       "    }\n",
       "\n",
       "    .dataframe tbody tr th {\n",
       "        vertical-align: top;\n",
       "    }\n",
       "\n",
       "    .dataframe thead th {\n",
       "        text-align: right;\n",
       "    }\n",
       "</style>\n",
       "<table border=\"1\" class=\"dataframe\">\n",
       "  <thead>\n",
       "    <tr style=\"text-align: right;\">\n",
       "      <th></th>\n",
       "      <th>close</th>\n",
       "      <th>close_tomorrow</th>\n",
       "    </tr>\n",
       "    <tr>\n",
       "      <th>날짜</th>\n",
       "      <th></th>\n",
       "      <th></th>\n",
       "    </tr>\n",
       "  </thead>\n",
       "  <tbody>\n",
       "    <tr>\n",
       "      <th>2013-01-02</th>\n",
       "      <td>15000</td>\n",
       "      <td>15000.0</td>\n",
       "    </tr>\n",
       "    <tr>\n",
       "      <th>2013-01-03</th>\n",
       "      <td>15000</td>\n",
       "      <td>14950.0</td>\n",
       "    </tr>\n",
       "    <tr>\n",
       "      <th>2013-01-04</th>\n",
       "      <td>14950</td>\n",
       "      <td>14850.0</td>\n",
       "    </tr>\n",
       "    <tr>\n",
       "      <th>2013-01-07</th>\n",
       "      <td>14850</td>\n",
       "      <td>14850.0</td>\n",
       "    </tr>\n",
       "    <tr>\n",
       "      <th>2013-01-08</th>\n",
       "      <td>14850</td>\n",
       "      <td>14900.0</td>\n",
       "    </tr>\n",
       "  </tbody>\n",
       "</table>\n",
       "</div>"
      ],
      "text/plain": [
       "            close  close_tomorrow\n",
       "날짜                               \n",
       "2013-01-02  15000         15000.0\n",
       "2013-01-03  15000         14950.0\n",
       "2013-01-04  14950         14850.0\n",
       "2013-01-07  14850         14850.0\n",
       "2013-01-08  14850         14900.0"
      ]
     },
     "execution_count": 122,
     "metadata": {},
     "output_type": "execute_result"
    }
   ],
   "source": [
    "df.head()"
   ]
  },
  {
   "cell_type": "code",
   "execution_count": 123,
   "id": "23cb9d9f",
   "metadata": {},
   "outputs": [
    {
     "data": {
      "text/html": [
       "<div>\n",
       "<style scoped>\n",
       "    .dataframe tbody tr th:only-of-type {\n",
       "        vertical-align: middle;\n",
       "    }\n",
       "\n",
       "    .dataframe tbody tr th {\n",
       "        vertical-align: top;\n",
       "    }\n",
       "\n",
       "    .dataframe thead th {\n",
       "        text-align: right;\n",
       "    }\n",
       "</style>\n",
       "<table border=\"1\" class=\"dataframe\">\n",
       "  <thead>\n",
       "    <tr style=\"text-align: right;\">\n",
       "      <th></th>\n",
       "      <th>close</th>\n",
       "      <th>close_tomorrow</th>\n",
       "      <th>return</th>\n",
       "    </tr>\n",
       "    <tr>\n",
       "      <th>날짜</th>\n",
       "      <th></th>\n",
       "      <th></th>\n",
       "      <th></th>\n",
       "    </tr>\n",
       "  </thead>\n",
       "  <tbody>\n",
       "    <tr>\n",
       "      <th>2022-12-23</th>\n",
       "      <td>39150</td>\n",
       "      <td>39400.0</td>\n",
       "      <td>0.006365</td>\n",
       "    </tr>\n",
       "    <tr>\n",
       "      <th>2022-12-26</th>\n",
       "      <td>39400</td>\n",
       "      <td>39400.0</td>\n",
       "      <td>0.000000</td>\n",
       "    </tr>\n",
       "    <tr>\n",
       "      <th>2022-12-27</th>\n",
       "      <td>39400</td>\n",
       "      <td>39700.0</td>\n",
       "      <td>0.007585</td>\n",
       "    </tr>\n",
       "    <tr>\n",
       "      <th>2022-12-28</th>\n",
       "      <td>39700</td>\n",
       "      <td>39400.0</td>\n",
       "      <td>-0.007585</td>\n",
       "    </tr>\n",
       "    <tr>\n",
       "      <th>2022-12-29</th>\n",
       "      <td>39400</td>\n",
       "      <td>NaN</td>\n",
       "      <td>NaN</td>\n",
       "    </tr>\n",
       "  </tbody>\n",
       "</table>\n",
       "</div>"
      ],
      "text/plain": [
       "            close  close_tomorrow    return\n",
       "날짜                                         \n",
       "2022-12-23  39150         39400.0  0.006365\n",
       "2022-12-26  39400         39400.0  0.000000\n",
       "2022-12-27  39400         39700.0  0.007585\n",
       "2022-12-28  39700         39400.0 -0.007585\n",
       "2022-12-29  39400             NaN       NaN"
      ]
     },
     "execution_count": 123,
     "metadata": {},
     "output_type": "execute_result"
    }
   ],
   "source": [
    "# Real Return column 생성\n",
    "\n",
    "df['return']= np.log( df['close'].shift(-1)/df['close'] )\n",
    "\n",
    "df.tail()"
   ]
  },
  {
   "cell_type": "code",
   "execution_count": 126,
   "id": "93b81f81",
   "metadata": {},
   "outputs": [
    {
     "data": {
      "text/plain": [
       "39399.18975"
      ]
     },
     "execution_count": 126,
     "metadata": {},
     "output_type": "execute_result"
    }
   ],
   "source": [
    "# 수익률 계산 인덱싱 점검 (수익률 계산은 로그 리턴 근사를 그대로 이용) -> shift(1) 보다 훨씬 인덱싱이 친절함.\n",
    "\n",
    "39150 * (1+ 0.006365 ) "
   ]
  },
  {
   "cell_type": "code",
   "execution_count": 127,
   "id": "11f53494",
   "metadata": {},
   "outputs": [
    {
     "data": {
      "text/plain": [
       "39698.848999999995"
      ]
     },
     "execution_count": 127,
     "metadata": {},
     "output_type": "execute_result"
    }
   ],
   "source": [
    "39400 * (1 + 0.007585 )"
   ]
  },
  {
   "cell_type": "markdown",
   "id": "358a6386",
   "metadata": {},
   "source": [
    "**로그리턴 근사 수익률로 곱한 것을 close_tomorrow 열과 비교해보니 얼추 맞는 것 같음.**\n",
    "\n",
    "**좀 더 통계적으로 엄밀히 증명하고자 한다면 -> T-test**"
   ]
  },
  {
   "cell_type": "code",
   "execution_count": 128,
   "id": "aceb8990",
   "metadata": {},
   "outputs": [
    {
     "data": {
      "text/html": [
       "<div>\n",
       "<style scoped>\n",
       "    .dataframe tbody tr th:only-of-type {\n",
       "        vertical-align: middle;\n",
       "    }\n",
       "\n",
       "    .dataframe tbody tr th {\n",
       "        vertical-align: top;\n",
       "    }\n",
       "\n",
       "    .dataframe thead th {\n",
       "        text-align: right;\n",
       "    }\n",
       "</style>\n",
       "<table border=\"1\" class=\"dataframe\">\n",
       "  <thead>\n",
       "    <tr style=\"text-align: right;\">\n",
       "      <th></th>\n",
       "      <th>close</th>\n",
       "      <th>close_tomorrow</th>\n",
       "      <th>return</th>\n",
       "      <th>close_tomorrow_computed</th>\n",
       "    </tr>\n",
       "    <tr>\n",
       "      <th>날짜</th>\n",
       "      <th></th>\n",
       "      <th></th>\n",
       "      <th></th>\n",
       "      <th></th>\n",
       "    </tr>\n",
       "  </thead>\n",
       "  <tbody>\n",
       "    <tr>\n",
       "      <th>2013-01-02</th>\n",
       "      <td>15000</td>\n",
       "      <td>15000.0</td>\n",
       "      <td>0.000000</td>\n",
       "      <td>15000.000000</td>\n",
       "    </tr>\n",
       "    <tr>\n",
       "      <th>2013-01-03</th>\n",
       "      <td>15000</td>\n",
       "      <td>14950.0</td>\n",
       "      <td>-0.003339</td>\n",
       "      <td>14949.916481</td>\n",
       "    </tr>\n",
       "    <tr>\n",
       "      <th>2013-01-04</th>\n",
       "      <td>14950</td>\n",
       "      <td>14850.0</td>\n",
       "      <td>-0.006711</td>\n",
       "      <td>14849.664053</td>\n",
       "    </tr>\n",
       "    <tr>\n",
       "      <th>2013-01-07</th>\n",
       "      <td>14850</td>\n",
       "      <td>14850.0</td>\n",
       "      <td>0.000000</td>\n",
       "      <td>14850.000000</td>\n",
       "    </tr>\n",
       "    <tr>\n",
       "      <th>2013-01-08</th>\n",
       "      <td>14850</td>\n",
       "      <td>14900.0</td>\n",
       "      <td>0.003361</td>\n",
       "      <td>14899.916013</td>\n",
       "    </tr>\n",
       "    <tr>\n",
       "      <th>...</th>\n",
       "      <td>...</td>\n",
       "      <td>...</td>\n",
       "      <td>...</td>\n",
       "      <td>...</td>\n",
       "    </tr>\n",
       "    <tr>\n",
       "      <th>2022-12-23</th>\n",
       "      <td>39150</td>\n",
       "      <td>39400.0</td>\n",
       "      <td>0.006365</td>\n",
       "      <td>39399.205170</td>\n",
       "    </tr>\n",
       "    <tr>\n",
       "      <th>2022-12-26</th>\n",
       "      <td>39400</td>\n",
       "      <td>39400.0</td>\n",
       "      <td>0.000000</td>\n",
       "      <td>39400.000000</td>\n",
       "    </tr>\n",
       "    <tr>\n",
       "      <th>2022-12-27</th>\n",
       "      <td>39400</td>\n",
       "      <td>39700.0</td>\n",
       "      <td>0.007585</td>\n",
       "      <td>39698.863633</td>\n",
       "    </tr>\n",
       "    <tr>\n",
       "      <th>2022-12-28</th>\n",
       "      <td>39700</td>\n",
       "      <td>39400.0</td>\n",
       "      <td>-0.007585</td>\n",
       "      <td>39398.860756</td>\n",
       "    </tr>\n",
       "    <tr>\n",
       "      <th>2022-12-29</th>\n",
       "      <td>39400</td>\n",
       "      <td>NaN</td>\n",
       "      <td>NaN</td>\n",
       "      <td>NaN</td>\n",
       "    </tr>\n",
       "  </tbody>\n",
       "</table>\n",
       "<p>2461 rows × 4 columns</p>\n",
       "</div>"
      ],
      "text/plain": [
       "            close  close_tomorrow    return  close_tomorrow_computed\n",
       "날짜                                                                  \n",
       "2013-01-02  15000         15000.0  0.000000             15000.000000\n",
       "2013-01-03  15000         14950.0 -0.003339             14949.916481\n",
       "2013-01-04  14950         14850.0 -0.006711             14849.664053\n",
       "2013-01-07  14850         14850.0  0.000000             14850.000000\n",
       "2013-01-08  14850         14900.0  0.003361             14899.916013\n",
       "...           ...             ...       ...                      ...\n",
       "2022-12-23  39150         39400.0  0.006365             39399.205170\n",
       "2022-12-26  39400         39400.0  0.000000             39400.000000\n",
       "2022-12-27  39400         39700.0  0.007585             39698.863633\n",
       "2022-12-28  39700         39400.0 -0.007585             39398.860756\n",
       "2022-12-29  39400             NaN       NaN                      NaN\n",
       "\n",
       "[2461 rows x 4 columns]"
      ]
     },
     "execution_count": 128,
     "metadata": {},
     "output_type": "execute_result"
    }
   ],
   "source": [
    "# 우선 계산 값을 열로 추가해 놓기\n",
    "\n",
    "df['close_tomorrow_computed'] = df['close'] * (1+df['return'])\n",
    "df\n",
    "\n",
    "# 추후에 조작한 열들 다 정리하고 싶으면\n",
    "# df.drop(['return','close_tomorrow', 'close_tomorrow_computed'], axis=1, inplace=True)\n"
   ]
  },
  {
   "cell_type": "code",
   "execution_count": 129,
   "id": "39c98549",
   "metadata": {},
   "outputs": [
    {
     "name": "stdout",
     "output_type": "stream",
     "text": [
      "Fail to reject the null hypothesis - the columns are statistically similar.\n"
     ]
    }
   ],
   "source": [
    "# T test (통계적으로 두 컬럼이 같은지 검증)\n",
    "\n",
    "import scipy.stats as stats\n",
    "\n",
    "# Define your two columns as NumPy arrays or Pandas Series\n",
    "column1 = df['close_tomorrow']\n",
    "column2 = df['close_tomorrow_computed']\n",
    "\n",
    "# Perform the t-test\n",
    "_, p_value = stats.ttest_rel(column1, column2)\n",
    "\n",
    "# Interpret the p-value\n",
    "\n",
    "alpha = 0.05  # Set the significance level\n",
    "\n",
    "if p_value < alpha:\n",
    "    print(\"Reject the null hypothesis - the columns are statistically different.\")\n",
    "else:\n",
    "    print(\"Fail to reject the null hypothesis - the columns are statistically similar.\")\n"
   ]
  },
  {
   "cell_type": "markdown",
   "id": "b5029eb7",
   "metadata": {},
   "source": [
    "### 따라서 로그 근사 수익률을 백분율 처럼 사용해도 되겠다!"
   ]
  },
  {
   "cell_type": "code",
   "execution_count": 130,
   "id": "3f35b7e6",
   "metadata": {},
   "outputs": [],
   "source": [
    "# 3. 21년 말일 이후 향후 251일 이후의 수익률 부트스트래핑  (12월 31일은 주식시장 휴장일이다.)\n",
    "\n",
    "# sampling with replacement (복원추출)\n",
    "expect = np.random.choice(df['return'][:-1],size=251)  # df['return'][:-1] -> 마지막 행의 NA 추출에서 제외"
   ]
  },
  {
   "cell_type": "code",
   "execution_count": 131,
   "id": "c618ff23",
   "metadata": {},
   "outputs": [],
   "source": [
    "# 4번\n",
    "\n",
    "# 원 데이터의 마지막 값을 기준점으로 삼는다. \n",
    "\n",
    "init_price = df['close'][-1]\n",
    "\n",
    "# 부트스트랩 수익률의 누적합을 구한다. \n",
    "\n",
    "cum_expect = np.cumsum(expect)\n",
    "\n",
    "# 이를 통해 구해진 이후 251일치의 예측 종가 \n",
    "\n",
    "predict= init_price * (1+cum_expect)        ## 로그 리턴을 그대로 수익률로 사용해 계산\n"
   ]
  },
  {
   "cell_type": "code",
   "execution_count": 132,
   "id": "cc569a32",
   "metadata": {},
   "outputs": [
    {
     "data": {
      "image/png": "[encoded data removed]",
      "text/plain": [
       "<Figure size 1800x800 with 1 Axes>"
      ]
     },
     "metadata": {},
     "output_type": "display_data"
    }
   ],
   "source": [
    "#5번\n",
    "\n",
    "# 참고) 2023년은 코스피 개장일이 1월 2일 (월) 이다. \n",
    "\n",
    "start_date = pd.to_datetime('2023-01-02')\n",
    "days = len(predict_new)\n",
    "dates = pd.bdate_range(start= start_date, periods=days) #pd.date 대신 pd.bdate: 주말 뺐음. \n",
    "\n",
    "# Plot\n",
    "\n",
    "plt.figure(figsize=(18,8))\n",
    "\n",
    "plt.plot(dates, predict, label=ticker, color='red')\n",
    "\n",
    "plt.title(f'Stock Forecast - {name} ({ticker})')\n",
    "plt.xlabel('Date')\n",
    "plt.ylabel('Stock Price')\n",
    "plt.grid(True)\n",
    "plt.legend()\n",
    "\n",
    "plt.show()"
   ]
  },
  {
   "cell_type": "code",
   "execution_count": 133,
   "id": "f37bd17e",
   "metadata": {},
   "outputs": [
    {
     "name": "stdout",
     "output_type": "stream",
     "text": [
      "-0.11866869686032142 \n",
      "\n",
      "0.16251892949777494 \n",
      "\n"
     ]
    }
   ],
   "source": [
    "# 이상치 확인\n",
    "\n",
    "print( df['return'].min() , '\\n')\n",
    "print( df['return'].max() , '\\n')\n",
    "\n",
    "# ±0.2 범위 이내 -> 이번 데이터에선 딱히 이상치가 없어보인다. "
   ]
  },
  {
   "cell_type": "code",
   "execution_count": 134,
   "id": "26182bb9",
   "metadata": {},
   "outputs": [
    {
     "data": {
      "image/png": "[encoded data removed]",
      "text/plain": [
       "<Figure size 1800x800 with 2 Axes>"
      ]
     },
     "metadata": {},
     "output_type": "display_data"
    }
   ],
   "source": [
    "# 6번\n",
    "\n",
    "\n",
    "n= 1000\n",
    "m=10000\n",
    "\n",
    "n_values=[]\n",
    "m_values=[]\n",
    "\n",
    "for i in range(n): \n",
    "    \n",
    "    expect = np.random.choice(df['return'][:-1],size=251)\n",
    "    cum_expect = np.cumsum(expect)\n",
    "    last= init_price * np.exp( cum_expect )[-1]\n",
    "        \n",
    "    n_values.append(last)\n",
    "\n",
    "    \n",
    "for i in range(m): \n",
    "    \n",
    "    expect = np.random.choice(df['return'][:-1],size=251)\n",
    "    cum_expect = np.cumsum(expect)\n",
    "    last= init_price * np.exp( cum_expect )[-1]\n",
    "        \n",
    "    m_values.append(last)    \n",
    "    \n",
    "# Create histogram\n",
    "\n",
    "# Set up the figure size\n",
    "plt.figure(figsize=(18,8))\n",
    "\n",
    "## \n",
    "plt.subplot(1, 2, 1)\n",
    "\n",
    "plt.hist(n_values, bins=30, edgecolor='black', color= 'turquoise')\n",
    "plt.title(f'Sample Distribution after {n} iterations ')\n",
    "plt.xlabel('Predicted Stock Price of the Last Day')\n",
    "plt.ylabel('Frequency')\n",
    "\n",
    "##\n",
    "plt.subplot(1, 2, 2)\n",
    "\n",
    "plt.hist(m_values, bins=30, edgecolor='black', color= 'darkorange')\n",
    "plt.title(f'Sample Distribution after {m} iterations ')\n",
    "plt.xlabel('Predicted Stock Price of the Last Day')\n",
    "plt.ylabel('Frequency')\n",
    "\n",
    "plt.show()\n"
   ]
  },
  {
   "cell_type": "code",
   "execution_count": null,
   "id": "9385b47c",
   "metadata": {},
   "outputs": [],
   "source": []
  },
  {
   "cell_type": "code",
   "execution_count": null,
   "id": "1b31d2b3",
   "metadata": {},
   "outputs": [],
   "source": []
  },
  {
   "cell_type": "code",
   "execution_count": null,
   "id": "b6f9e15c",
   "metadata": {},
   "outputs": [],
   "source": []
  }
 ],
 "metadata": {
  "colab": {
   "provenance": []
  },
  "kernelspec": {
   "display_name": "Python 3 (ipykernel)",
   "language": "python",
   "name": "python3"
  },
  "language_info": {
   "codemirror_mode": {
    "name": "ipython",
    "version": 3
   },
   "file_extension": ".py",
   "mimetype": "text/x-python",
   "name": "python",
   "nbconvert_exporter": "python",
   "pygments_lexer": "ipython3",
   "version": "3.10.9"
  }
 },
 "nbformat": 4,
 "nbformat_minor": 5
}
