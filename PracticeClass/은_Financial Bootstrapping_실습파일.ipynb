{
 "cells": [
  {
   "cell_type": "code",
   "execution_count": null,
   "id": "c8730ff6",
   "metadata": {},
   "outputs": [],
   "source": [
    "!pip install pykrx"
   ]
  },
  {
   "cell_type": "code",
   "execution_count": 29,
   "id": "275a003d",
   "metadata": {},
   "outputs": [],
   "source": [
    "import pykrx\n",
    "#help(pykrx)"
   ]
  },
  {
   "cell_type": "code",
   "execution_count": 1,
   "id": "e083bb04",
   "metadata": {},
   "outputs": [],
   "source": [
    "# 1. 데이터 소개\n",
    "from pykrx import stock\n",
    "\n",
    "# bond도 가능함\n",
    "# from pykrx import bond\n",
    "\n",
    "# https://github.com/sharebook-kr/pykrx\n",
    "\n",
    "# tickers = stock.get_market_ticker_list(조회일자(YYYYmmdd) [,market=조회할 시장(KOSPI, KOSDAQ, ALL])\n",
    "# name = get_market_ticker_name(심볼 [,market=조회할 시장(KOSPI, KOSDAQ, ALL])\n",
    "# ohlcv = stock.stock.get_market_ohlcv(조회일자(YYYYmmdd) [,앞에 시작일을 넣었다면 종료일] [,심볼] )\n",
    "\n",
    "# 예시\n",
    "#tickers = stock.get_market_ticker_list(\"20220222\", market=\"KOSPI\") # 코스피 종목 리스트\n",
    "#name = stock.get_market_ticker_name(\"005930\") # 심볼 -> 기업 이름\n",
    "#ohlcv = stock.get_market_ohlcv(\"20220222\", market=\"KOSPI\") # 특정일 코스피 종목들의 OHLCV\n",
    "raw = stock.get_market_ohlcv( '20130101','20221231' ,'002310') # 특정기간 특정 종목의 OHLCV"
   ]
  },
  {
   "cell_type": "code",
   "execution_count": 2,
   "id": "01979b80",
   "metadata": {
    "scrolled": true
   },
   "outputs": [
    {
     "data": {
      "text/html": [
       "<div>\n",
       "<style scoped>\n",
       "    .dataframe tbody tr th:only-of-type {\n",
       "        vertical-align: middle;\n",
       "    }\n",
       "\n",
       "    .dataframe tbody tr th {\n",
       "        vertical-align: top;\n",
       "    }\n",
       "\n",
       "    .dataframe thead th {\n",
       "        text-align: right;\n",
       "    }\n",
       "</style>\n",
       "<table border=\"1\" class=\"dataframe\">\n",
       "  <thead>\n",
       "    <tr style=\"text-align: right;\">\n",
       "      <th></th>\n",
       "      <th>시가</th>\n",
       "      <th>고가</th>\n",
       "      <th>저가</th>\n",
       "      <th>종가</th>\n",
       "      <th>거래량</th>\n",
       "      <th>거래대금</th>\n",
       "      <th>등락률</th>\n",
       "    </tr>\n",
       "    <tr>\n",
       "      <th>날짜</th>\n",
       "      <th></th>\n",
       "      <th></th>\n",
       "      <th></th>\n",
       "      <th></th>\n",
       "      <th></th>\n",
       "      <th></th>\n",
       "      <th></th>\n",
       "    </tr>\n",
       "  </thead>\n",
       "  <tbody>\n",
       "    <tr>\n",
       "      <th>2022-12-23</th>\n",
       "      <td>39050</td>\n",
       "      <td>39400</td>\n",
       "      <td>38350</td>\n",
       "      <td>39150</td>\n",
       "      <td>29839</td>\n",
       "      <td>1161280550</td>\n",
       "      <td>-0.13</td>\n",
       "    </tr>\n",
       "    <tr>\n",
       "      <th>2022-12-26</th>\n",
       "      <td>39000</td>\n",
       "      <td>39600</td>\n",
       "      <td>38750</td>\n",
       "      <td>39400</td>\n",
       "      <td>14244</td>\n",
       "      <td>560669350</td>\n",
       "      <td>0.64</td>\n",
       "    </tr>\n",
       "    <tr>\n",
       "      <th>2022-12-27</th>\n",
       "      <td>39100</td>\n",
       "      <td>39450</td>\n",
       "      <td>38700</td>\n",
       "      <td>39400</td>\n",
       "      <td>28728</td>\n",
       "      <td>1122859400</td>\n",
       "      <td>0.00</td>\n",
       "    </tr>\n",
       "    <tr>\n",
       "      <th>2022-12-28</th>\n",
       "      <td>39200</td>\n",
       "      <td>39850</td>\n",
       "      <td>38650</td>\n",
       "      <td>39700</td>\n",
       "      <td>36691</td>\n",
       "      <td>1446375450</td>\n",
       "      <td>0.76</td>\n",
       "    </tr>\n",
       "    <tr>\n",
       "      <th>2022-12-29</th>\n",
       "      <td>39700</td>\n",
       "      <td>39700</td>\n",
       "      <td>38950</td>\n",
       "      <td>39400</td>\n",
       "      <td>20007</td>\n",
       "      <td>786583900</td>\n",
       "      <td>-0.76</td>\n",
       "    </tr>\n",
       "  </tbody>\n",
       "</table>\n",
       "</div>"
      ],
      "text/plain": [
       "               시가     고가     저가     종가    거래량        거래대금   등락률\n",
       "날짜                                                             \n",
       "2022-12-23  39050  39400  38350  39150  29839  1161280550 -0.13\n",
       "2022-12-26  39000  39600  38750  39400  14244   560669350  0.64\n",
       "2022-12-27  39100  39450  38700  39400  28728  1122859400  0.00\n",
       "2022-12-28  39200  39850  38650  39700  36691  1446375450  0.76\n",
       "2022-12-29  39700  39700  38950  39400  20007   786583900 -0.76"
      ]
     },
     "execution_count": 2,
     "metadata": {},
     "output_type": "execute_result"
    }
   ],
   "source": [
    "raw.tail()"
   ]
  },
  {
   "cell_type": "code",
   "execution_count": 32,
   "id": "33f63514",
   "metadata": {},
   "outputs": [],
   "source": [
    "# 2. 수익률 계산하기\n",
    "import pandas as pd\n",
    "df=pd.DataFrame(raw['종가'])"
   ]
  },
  {
   "cell_type": "code",
   "execution_count": 33,
   "id": "08052210",
   "metadata": {},
   "outputs": [
    {
     "data": {
      "text/html": [
       "<div>\n",
       "<style scoped>\n",
       "    .dataframe tbody tr th:only-of-type {\n",
       "        vertical-align: middle;\n",
       "    }\n",
       "\n",
       "    .dataframe tbody tr th {\n",
       "        vertical-align: top;\n",
       "    }\n",
       "\n",
       "    .dataframe thead th {\n",
       "        text-align: right;\n",
       "    }\n",
       "</style>\n",
       "<table border=\"1\" class=\"dataframe\">\n",
       "  <thead>\n",
       "    <tr style=\"text-align: right;\">\n",
       "      <th></th>\n",
       "      <th>close</th>\n",
       "    </tr>\n",
       "    <tr>\n",
       "      <th>날짜</th>\n",
       "      <th></th>\n",
       "    </tr>\n",
       "  </thead>\n",
       "  <tbody>\n",
       "    <tr>\n",
       "      <th>2013-01-02</th>\n",
       "      <td>15000</td>\n",
       "    </tr>\n",
       "    <tr>\n",
       "      <th>2013-01-03</th>\n",
       "      <td>15000</td>\n",
       "    </tr>\n",
       "    <tr>\n",
       "      <th>2013-01-04</th>\n",
       "      <td>14950</td>\n",
       "    </tr>\n",
       "    <tr>\n",
       "      <th>2013-01-07</th>\n",
       "      <td>14850</td>\n",
       "    </tr>\n",
       "    <tr>\n",
       "      <th>2013-01-08</th>\n",
       "      <td>14850</td>\n",
       "    </tr>\n",
       "  </tbody>\n",
       "</table>\n",
       "</div>"
      ],
      "text/plain": [
       "            close\n",
       "날짜               \n",
       "2013-01-02  15000\n",
       "2013-01-03  15000\n",
       "2013-01-04  14950\n",
       "2013-01-07  14850\n",
       "2013-01-08  14850"
      ]
     },
     "execution_count": 33,
     "metadata": {},
     "output_type": "execute_result"
    }
   ],
   "source": [
    "df=df.rename(columns={'종가':'close'})\n",
    "df.head()"
   ]
  },
  {
   "cell_type": "code",
   "execution_count": 34,
   "id": "61ef85d8",
   "metadata": {},
   "outputs": [],
   "source": [
    "import numpy as np"
   ]
  },
  {
   "cell_type": "code",
   "execution_count": 45,
   "id": "7e149f93",
   "metadata": {
    "scrolled": true
   },
   "outputs": [
    {
     "data": {
      "text/html": [
       "<div>\n",
       "<style scoped>\n",
       "    .dataframe tbody tr th:only-of-type {\n",
       "        vertical-align: middle;\n",
       "    }\n",
       "\n",
       "    .dataframe tbody tr th {\n",
       "        vertical-align: top;\n",
       "    }\n",
       "\n",
       "    .dataframe thead th {\n",
       "        text-align: right;\n",
       "    }\n",
       "</style>\n",
       "<table border=\"1\" class=\"dataframe\">\n",
       "  <thead>\n",
       "    <tr style=\"text-align: right;\">\n",
       "      <th></th>\n",
       "      <th>close</th>\n",
       "      <th>return</th>\n",
       "    </tr>\n",
       "    <tr>\n",
       "      <th>날짜</th>\n",
       "      <th></th>\n",
       "      <th></th>\n",
       "    </tr>\n",
       "  </thead>\n",
       "  <tbody>\n",
       "    <tr>\n",
       "      <th>2013-01-02</th>\n",
       "      <td>15000</td>\n",
       "      <td>NaN</td>\n",
       "    </tr>\n",
       "    <tr>\n",
       "      <th>2013-01-03</th>\n",
       "      <td>15000</td>\n",
       "      <td>0.000000</td>\n",
       "    </tr>\n",
       "    <tr>\n",
       "      <th>2013-01-04</th>\n",
       "      <td>14950</td>\n",
       "      <td>-0.003339</td>\n",
       "    </tr>\n",
       "    <tr>\n",
       "      <th>2013-01-07</th>\n",
       "      <td>14850</td>\n",
       "      <td>-0.006711</td>\n",
       "    </tr>\n",
       "    <tr>\n",
       "      <th>2013-01-08</th>\n",
       "      <td>14850</td>\n",
       "      <td>0.000000</td>\n",
       "    </tr>\n",
       "    <tr>\n",
       "      <th>...</th>\n",
       "      <td>...</td>\n",
       "      <td>...</td>\n",
       "    </tr>\n",
       "    <tr>\n",
       "      <th>2022-12-23</th>\n",
       "      <td>39150</td>\n",
       "      <td>-0.001276</td>\n",
       "    </tr>\n",
       "    <tr>\n",
       "      <th>2022-12-26</th>\n",
       "      <td>39400</td>\n",
       "      <td>0.006365</td>\n",
       "    </tr>\n",
       "    <tr>\n",
       "      <th>2022-12-27</th>\n",
       "      <td>39400</td>\n",
       "      <td>0.000000</td>\n",
       "    </tr>\n",
       "    <tr>\n",
       "      <th>2022-12-28</th>\n",
       "      <td>39700</td>\n",
       "      <td>0.007585</td>\n",
       "    </tr>\n",
       "    <tr>\n",
       "      <th>2022-12-29</th>\n",
       "      <td>39400</td>\n",
       "      <td>-0.007585</td>\n",
       "    </tr>\n",
       "  </tbody>\n",
       "</table>\n",
       "<p>2461 rows × 2 columns</p>\n",
       "</div>"
      ],
      "text/plain": [
       "            close    return\n",
       "날짜                         \n",
       "2013-01-02  15000       NaN\n",
       "2013-01-03  15000  0.000000\n",
       "2013-01-04  14950 -0.003339\n",
       "2013-01-07  14850 -0.006711\n",
       "2013-01-08  14850  0.000000\n",
       "...           ...       ...\n",
       "2022-12-23  39150 -0.001276\n",
       "2022-12-26  39400  0.006365\n",
       "2022-12-27  39400  0.000000\n",
       "2022-12-28  39700  0.007585\n",
       "2022-12-29  39400 -0.007585\n",
       "\n",
       "[2461 rows x 2 columns]"
      ]
     },
     "execution_count": 45,
     "metadata": {},
     "output_type": "execute_result"
    }
   ],
   "source": [
    "df['return']=np.log(df['close']/df['close'].shift(1))\n",
    "df"
   ]
  },
  {
   "cell_type": "code",
   "execution_count": 46,
   "id": "d96ec11f",
   "metadata": {},
   "outputs": [
    {
     "data": {
      "text/html": [
       "<div>\n",
       "<style scoped>\n",
       "    .dataframe tbody tr th:only-of-type {\n",
       "        vertical-align: middle;\n",
       "    }\n",
       "\n",
       "    .dataframe tbody tr th {\n",
       "        vertical-align: top;\n",
       "    }\n",
       "\n",
       "    .dataframe thead th {\n",
       "        text-align: right;\n",
       "    }\n",
       "</style>\n",
       "<table border=\"1\" class=\"dataframe\">\n",
       "  <thead>\n",
       "    <tr style=\"text-align: right;\">\n",
       "      <th></th>\n",
       "      <th>close</th>\n",
       "      <th>return</th>\n",
       "    </tr>\n",
       "    <tr>\n",
       "      <th>날짜</th>\n",
       "      <th></th>\n",
       "      <th></th>\n",
       "    </tr>\n",
       "  </thead>\n",
       "  <tbody>\n",
       "    <tr>\n",
       "      <th>2013-01-02</th>\n",
       "      <td>15000</td>\n",
       "      <td>0.000000</td>\n",
       "    </tr>\n",
       "    <tr>\n",
       "      <th>2013-01-03</th>\n",
       "      <td>15000</td>\n",
       "      <td>0.000000</td>\n",
       "    </tr>\n",
       "    <tr>\n",
       "      <th>2013-01-04</th>\n",
       "      <td>14950</td>\n",
       "      <td>-0.003339</td>\n",
       "    </tr>\n",
       "    <tr>\n",
       "      <th>2013-01-07</th>\n",
       "      <td>14850</td>\n",
       "      <td>-0.006711</td>\n",
       "    </tr>\n",
       "    <tr>\n",
       "      <th>2013-01-08</th>\n",
       "      <td>14850</td>\n",
       "      <td>0.000000</td>\n",
       "    </tr>\n",
       "    <tr>\n",
       "      <th>...</th>\n",
       "      <td>...</td>\n",
       "      <td>...</td>\n",
       "    </tr>\n",
       "    <tr>\n",
       "      <th>2022-12-23</th>\n",
       "      <td>39150</td>\n",
       "      <td>-0.001276</td>\n",
       "    </tr>\n",
       "    <tr>\n",
       "      <th>2022-12-26</th>\n",
       "      <td>39400</td>\n",
       "      <td>0.006365</td>\n",
       "    </tr>\n",
       "    <tr>\n",
       "      <th>2022-12-27</th>\n",
       "      <td>39400</td>\n",
       "      <td>0.000000</td>\n",
       "    </tr>\n",
       "    <tr>\n",
       "      <th>2022-12-28</th>\n",
       "      <td>39700</td>\n",
       "      <td>0.007585</td>\n",
       "    </tr>\n",
       "    <tr>\n",
       "      <th>2022-12-29</th>\n",
       "      <td>39400</td>\n",
       "      <td>-0.007585</td>\n",
       "    </tr>\n",
       "  </tbody>\n",
       "</table>\n",
       "<p>2461 rows × 2 columns</p>\n",
       "</div>"
      ],
      "text/plain": [
       "            close    return\n",
       "날짜                         \n",
       "2013-01-02  15000  0.000000\n",
       "2013-01-03  15000  0.000000\n",
       "2013-01-04  14950 -0.003339\n",
       "2013-01-07  14850 -0.006711\n",
       "2013-01-08  14850  0.000000\n",
       "...           ...       ...\n",
       "2022-12-23  39150 -0.001276\n",
       "2022-12-26  39400  0.006365\n",
       "2022-12-27  39400  0.000000\n",
       "2022-12-28  39700  0.007585\n",
       "2022-12-29  39400 -0.007585\n",
       "\n",
       "[2461 rows x 2 columns]"
      ]
     },
     "execution_count": 46,
     "metadata": {},
     "output_type": "execute_result"
    }
   ],
   "source": [
    "## 저는 일단 0을 채워넣었습니다.\n",
    "df = df.fillna(0)\n",
    "df"
   ]
  },
  {
   "cell_type": "code",
   "execution_count": 101,
   "id": "fc56a3f7",
   "metadata": {},
   "outputs": [
    {
     "name": "stdout",
     "output_type": "stream",
     "text": [
      "1.0019782400121058\n"
     ]
    }
   ],
   "source": [
    "# 3. 12월 29일 종가를 기준으로 향후 251일 이후의 수익률 부트스트래핑\n",
    "\n",
    "#### 원래는 외장함수 불러오는게 맞지만 아무래도 numpy의 random과 다른 것 같아 따로 처리\n",
    "#import random\n",
    "#random.seed(4)\n",
    "\n",
    "np.random.seed(3)\n",
    "\n",
    "expect = np.random.choice(df['return'], size=251)\n",
    "print(1 + expect[0])\n",
    "\n",
    "# 불확실성이 실현된!"
   ]
  },
  {
   "cell_type": "code",
   "execution_count": 51,
   "id": "5240b793",
   "metadata": {},
   "outputs": [
    {
     "data": {
      "text/plain": [
       "(2461,)"
      ]
     },
     "execution_count": 51,
     "metadata": {},
     "output_type": "execute_result"
    }
   ],
   "source": [
    "df['close'].shape"
   ]
  },
  {
   "cell_type": "code",
   "execution_count": 58,
   "id": "99786c37",
   "metadata": {},
   "outputs": [
    {
     "data": {
      "text/plain": [
       "39700.0"
      ]
     },
     "execution_count": 58,
     "metadata": {},
     "output_type": "execute_result"
    }
   ],
   "source": [
    "df['close'].shift(1).iloc[-1]"
   ]
  },
  {
   "cell_type": "code",
   "execution_count": 65,
   "id": "9d1a549e",
   "metadata": {},
   "outputs": [
    {
     "data": {
      "text/plain": [
       "날짜\n",
       "2013-01-02    15000\n",
       "2013-01-03    15000\n",
       "2013-01-04    14950\n",
       "2013-01-07    14850\n",
       "2013-01-08    14850\n",
       "              ...  \n",
       "2022-12-23    39150\n",
       "2022-12-26    39400\n",
       "2022-12-27    39400\n",
       "2022-12-28    39700\n",
       "2022-12-29    39400\n",
       "Name: close, Length: 2461, dtype: int32"
      ]
     },
     "execution_count": 65,
     "metadata": {},
     "output_type": "execute_result"
    }
   ],
   "source": [
    "df['close']"
   ]
  },
  {
   "cell_type": "code",
   "execution_count": 44,
   "id": "3ac71a06",
   "metadata": {},
   "outputs": [
    {
     "data": {
      "text/plain": [
       "9.804780876494023"
      ]
     },
     "execution_count": 44,
     "metadata": {},
     "output_type": "execute_result"
    }
   ],
   "source": [
    "2461/251"
   ]
  },
  {
   "cell_type": "code",
   "execution_count": null,
   "id": "84731a06",
   "metadata": {},
   "outputs": [],
   "source": [
    "expected_last =(1+expect)*df['close'][-251:]\n",
    "\n",
    "ex_l=[df['close'][-1]]\n",
    "for i in range(251):\n",
    "  expect_l = expected_list[i]*ex_l[-1]\n",
    "  ex_l.append(expect_l)"
   ]
  },
  {
   "cell_type": "code",
   "execution_count": 77,
   "id": "f107a7a5",
   "metadata": {},
   "outputs": [
    {
     "data": {
      "text/plain": [
       "날짜\n",
       "2013-01-02    14850.0\n",
       "2013-01-03    14850.0\n",
       "2013-01-04    14900.0\n",
       "2013-01-07    15000.0\n",
       "2013-01-08    16000.0\n",
       "               ...   \n",
       "2022-12-23    39700.0\n",
       "2022-12-26    39400.0\n",
       "2022-12-27        NaN\n",
       "2022-12-28        NaN\n",
       "2022-12-29        NaN\n",
       "Name: close, Length: 2461, dtype: float64"
      ]
     },
     "execution_count": 77,
     "metadata": {},
     "output_type": "execute_result"
    }
   ],
   "source": [
    "df['close'].shift(-3)"
   ]
  },
  {
   "cell_type": "code",
   "execution_count": 76,
   "id": "99875733",
   "metadata": {},
   "outputs": [
    {
     "data": {
      "text/plain": [
       "날짜\n",
       "2013-01-02    15000\n",
       "2013-01-03    15000\n",
       "2013-01-04    14950\n",
       "2013-01-07    14850\n",
       "2013-01-08    14850\n",
       "              ...  \n",
       "2022-12-23    39150\n",
       "2022-12-26    39400\n",
       "2022-12-27    39400\n",
       "2022-12-28    39700\n",
       "2022-12-29    39400\n",
       "Name: close, Length: 2461, dtype: int32"
      ]
     },
     "execution_count": 76,
     "metadata": {},
     "output_type": "execute_result"
    }
   ],
   "source": [
    "df['close']"
   ]
  },
  {
   "cell_type": "code",
   "execution_count": 74,
   "id": "e3675f73",
   "metadata": {},
   "outputs": [
    {
     "data": {
      "text/plain": [
       "날짜\n",
       "2022-12-27    39400\n",
       "2022-12-28    39700\n",
       "2022-12-29    39400\n",
       "Name: close, dtype: int32"
      ]
     },
     "execution_count": 74,
     "metadata": {},
     "output_type": "execute_result"
    }
   ],
   "source": [
    "df['close'][-3:]"
   ]
  },
  {
   "cell_type": "code",
   "execution_count": 88,
   "id": "d1985393",
   "metadata": {},
   "outputs": [
    {
     "data": {
      "text/plain": [
       "날짜\n",
       "2013-01-02    21350.0\n",
       "2013-01-03    20800.0\n",
       "2013-01-04    20600.0\n",
       "2013-01-07    20450.0\n",
       "2013-01-08    20500.0\n",
       "               ...   \n",
       "2021-12-17    39150.0\n",
       "2021-12-20    39400.0\n",
       "2021-12-21    39400.0\n",
       "2021-12-22    39700.0\n",
       "2021-12-23    39400.0\n",
       "Name: close, Length: 2210, dtype: float64"
      ]
     },
     "execution_count": 88,
     "metadata": {},
     "output_type": "execute_result"
    }
   ],
   "source": [
    "df['close'].shift(-251)[:-251]"
   ]
  },
  {
   "cell_type": "code",
   "execution_count": 84,
   "id": "14999ff3",
   "metadata": {},
   "outputs": [
    {
     "ename": "IndexError",
     "evalue": "too many indices for array: array is 0-dimensional, but 1 were indexed",
     "output_type": "error",
     "traceback": [
      "\u001b[0;31m---------------------------------------------------------------------------\u001b[0m",
      "\u001b[0;31mIndexError\u001b[0m                                Traceback (most recent call last)",
      "Cell \u001b[0;32mIn[84], line 1\u001b[0m\n\u001b[0;32m----> 1\u001b[0m \u001b[43mnp\u001b[49m\u001b[38;5;241;43m.\u001b[39;49m\u001b[43marray\u001b[49m\u001b[43m(\u001b[49m\u001b[43mdf\u001b[49m\u001b[43m[\u001b[49m\u001b[38;5;124;43m'\u001b[39;49m\u001b[38;5;124;43mclose\u001b[39;49m\u001b[38;5;124;43m'\u001b[39;49m\u001b[43m]\u001b[49m\u001b[38;5;241;43m.\u001b[39;49m\u001b[43mshift\u001b[49m\u001b[43m(\u001b[49m\u001b[38;5;241;43m-\u001b[39;49m\u001b[38;5;241;43m251\u001b[39;49m\u001b[43m)\u001b[49m\u001b[38;5;241;43m.\u001b[39;49m\u001b[43miloc\u001b[49m\u001b[43m[\u001b[49m\u001b[38;5;241;43m-\u001b[39;49m\u001b[38;5;241;43m1\u001b[39;49m\u001b[43m]\u001b[49m\u001b[43m)\u001b[49m\u001b[43m[\u001b[49m\u001b[43m:\u001b[49m\u001b[38;5;241;43m-\u001b[39;49m\u001b[38;5;241;43m251\u001b[39;49m\u001b[43m]\u001b[49m\n",
      "\u001b[0;31mIndexError\u001b[0m: too many indices for array: array is 0-dimensional, but 1 were indexed"
     ]
    }
   ],
   "source": [
    "np.array(df['close'].shift(-251).iloc[-1])[:-251]"
   ]
  },
  {
   "cell_type": "code",
   "execution_count": 91,
   "id": "785fe2a3",
   "metadata": {},
   "outputs": [
    {
     "data": {
      "text/plain": [
       "2210"
      ]
     },
     "execution_count": 91,
     "metadata": {},
     "output_type": "execute_result"
    }
   ],
   "source": [
    "df['close'].shape[0]-251"
   ]
  },
  {
   "cell_type": "code",
   "execution_count": null,
   "id": "f5913987",
   "metadata": {},
   "outputs": [],
   "source": [
    "expected_last =(1+expect)*df['close'][-251:]\n",
    "\n",
    "ex_l=[df['close'][-1]]\n",
    "for i in range(251):\n",
    "  expect_l = expected_list[i]*ex_l[-1]\n",
    "  ex_l.append(expect_l)"
   ]
  },
  {
   "cell_type": "code",
   "execution_count": 98,
   "id": "5c7301dc",
   "metadata": {},
   "outputs": [
    {
     "data": {
      "text/plain": [
       "array([0.99739244, 1.00542007, 0.98535845, 1.01491328, 1.00698815,\n",
       "       0.9908003 , 1.01673679, 1.00515465, 0.97266345, 1.02686364,\n",
       "       1.02298952, 1.00782273, 1.01587335, 0.99090312, 0.95470024,\n",
       "       1.00774197, 1.        , 1.02020271, 1.01432531, 0.97858017,\n",
       "       1.00527706, 1.01402548, 1.00542007, 0.99435346, 0.98408454,\n",
       "       0.97637138, 0.98445198, 1.00507615, 1.00930239, 1.03868954,\n",
       "       1.00944039, 1.00262812, 1.00960007, 0.99141626, 0.99241463,\n",
       "       1.01049572, 1.0057389 , 1.        , 0.98077837, 1.00126502,\n",
       "       1.002442  , 1.01904819, 0.98457553, 0.99773499, 1.00904984,\n",
       "       0.99038454, 1.03261159, 0.98677667, 1.00407748, 1.01015237,\n",
       "       1.05310983, 1.        , 1.00786374, 1.00619197, 0.97974614,\n",
       "       1.0020141 , 0.99683043, 0.94143747, 0.99097738, 0.97284901,\n",
       "       1.01886848, 1.03107364, 0.953291  , 0.97672889, 0.98966399,\n",
       "       1.01980263, 0.99626168, 0.98031917, 0.97101246, 1.0145563 ,\n",
       "       1.00348432, 1.05632733, 0.99766082, 0.9900213 , 1.00330033,\n",
       "       0.98698463, 1.03069295, 1.07187721, 1.00725517, 1.00921666,\n",
       "       1.06659041, 1.03069295, 1.00896867, 1.03415892, 0.98381842,\n",
       "       0.99175593, 0.98514089, 0.98514089, 1.00550966, 1.06734357,\n",
       "       1.01597195, 0.99817017, 1.00647251, 1.00344234, 1.00353565,\n",
       "       1.01310635, 0.97692888, 1.007362  , 0.92247936, 1.00804833,\n",
       "       1.00289436, 1.        , 0.98680471, 1.05503247, 1.00102197,\n",
       "       0.98594001, 0.99749059, 0.97414662, 1.00754721, 0.9646106 ,\n",
       "       0.99454048, 1.04564128, 1.01928591, 1.00820349, 0.98176241,\n",
       "       0.99390242, 0.97115185, 0.99476895, 0.971611  , 1.02061929,\n",
       "       0.99211041, 0.99172409, 1.0530347 , 1.00399202, 1.00851069,\n",
       "       1.        , 1.00232288, 1.00486028, 1.0610247 , 1.00647251,\n",
       "       0.99740596, 1.0165293 , 1.03765672, 1.01156082, 1.01237858,\n",
       "       0.96911653, 1.        , 1.01511364, 0.96289625, 0.99426933,\n",
       "       0.97989882, 1.01072396, 0.98927193, 1.00764335, 1.0121582 ,\n",
       "       1.01007565, 1.00904984, 1.00177462, 0.99890531, 1.00698815,\n",
       "       0.99476895, 1.        , 1.        , 1.00917438, 1.00516797,\n",
       "       1.02871011, 1.00997238, 0.93995037, 0.98940387, 0.99756987,\n",
       "       0.95170599, 1.01140263, 1.002442  , 1.02937461, 1.05123736,\n",
       "       1.02383248, 1.01799357, 0.99283151, 0.97662231, 0.97975184,\n",
       "       1.0203673 , 0.99632353, 0.99502487, 1.01123607, 0.98680245,\n",
       "       1.07105792, 0.96742383, 0.9862338 , 1.00113701, 0.93313705,\n",
       "       0.93657817, 0.97420088, 1.02651671, 1.02216157, 1.07676402,\n",
       "       1.        , 0.99256502, 1.05310983, 1.00780238, 0.9300126 ,\n",
       "       0.98440791, 0.99033809, 0.97593297, 0.98843918, 1.00470589,\n",
       "       0.97704817, 1.01499278, 1.10433697, 0.98076864, 0.980353  ,\n",
       "       0.99245279, 0.95425398, 1.02298952, 1.00126024, 1.0116377 ,\n",
       "       0.98006579, 0.97302341, 0.99475064, 1.0212774 , 1.        ,\n",
       "       0.99651568, 0.97556597, 1.02597549, 0.93891231, 1.03241024,\n",
       "       1.06517887, 1.0057389 , 1.        , 1.02666825, 1.00322061,\n",
       "       1.00624027, 1.01015237, 1.00496279, 1.07691404, 1.007362  ,\n",
       "       1.00770222, 0.99725651, 1.        , 1.00192123, 1.        ,\n",
       "       1.00531916, 0.99043055, 0.99256502, 1.00699793, 1.        ,\n",
       "       1.02016567, 1.00272109, 0.97852932, 1.00273598, 0.98416853,\n",
       "       1.00975617, 0.98491676, 1.00921666, 1.00230681, 0.98895016,\n",
       "       1.00549754, 1.02390552, 1.00975617, 0.99865138, 1.03783553,\n",
       "       1.0051414 ])"
      ]
     },
     "execution_count": 98,
     "metadata": {},
     "output_type": "execute_result"
    }
   ],
   "source": [
    "1+expect"
   ]
  },
  {
   "cell_type": "code",
   "execution_count": 96,
   "id": "6a8c2cbc",
   "metadata": {},
   "outputs": [
    {
     "data": {
      "text/plain": [
       "39400"
      ]
     },
     "execution_count": 96,
     "metadata": {},
     "output_type": "execute_result"
    }
   ],
   "source": [
    "df['close'][-1]"
   ]
  },
  {
   "cell_type": "code",
   "execution_count": 99,
   "id": "d50b803c",
   "metadata": {},
   "outputs": [
    {
     "name": "stdout",
     "output_type": "stream",
     "text": [
      "[39297.26200176 39613.55065829 38823.12293028 39987.58338372\n",
      " 39675.33305618 39037.5319422  40059.42961881 39603.09323319\n",
      " 38322.93976595 40458.42750542 40305.78701805 39708.21539184\n",
      " 40025.40995676 39041.58297343 37615.18948635 39705.03378165\n",
      " 39400.         40195.98666831 39964.41736552 38556.05876495\n",
      " 39607.91604977 39952.60372897 39613.55065829 39177.5262299\n",
      " 38772.93106095 38469.0324353  38787.40815429 39600.00042946\n",
      " 39766.5142709  40924.36807104 39771.9515149  39503.54802281\n",
      " 39778.24290492 39061.80049856 39101.13636726 39813.53149298\n",
      " 39626.11252876 39400.         38642.66762903 39449.84187888\n",
      " 39496.21494403 40150.49888185 38792.27586917 39310.75873874\n",
      " 39756.56351948 39021.15092724 40684.8964722  38879.00067292\n",
      " 39560.6526181  39800.00343568 41492.52711737 39400.\n",
      " 39709.83121653 39643.96362777 38601.99803796 39479.35551525\n",
      " 39275.11875441 37092.6363492  39044.50886657 38330.2510308\n",
      " 40143.41828159 40624.30128301 37559.66548016 38483.11845311\n",
      " 38992.76123237 40180.22351547 39252.71010884 38624.57521787\n",
      " 38257.89104719 39973.5181323  39537.28236885 41619.2968535\n",
      " 39307.83621529 39006.83921803 39530.03312133 38887.19449638\n",
      " 40609.30208814 42231.96213432 39685.85373272 39763.13621113\n",
      " 42023.66196461 40609.30208814 39753.36559732 40745.86140117\n",
      " 38762.44563566 39075.18365086 38814.55089249 38814.55089249\n",
      " 39617.08043895 42053.33673937 40029.2946553  39327.90482892\n",
      " 39655.01707152 39535.62836112 39539.30480039 39916.39009171\n",
      " 38490.99783649 39690.06265978 36345.68685331 39717.1043274\n",
      " 39514.03770624 39400.         38880.1055575  41568.27940903\n",
      " 39440.26571633 38846.03656861 39301.12918275 38381.37687424\n",
      " 39697.35990203 38005.65774976 39184.89482513 41198.26646967\n",
      " 40159.86473133 39723.21756324 38681.43905054 39159.7553532\n",
      " 38263.3827191  39193.89665295 38281.47327145 40212.39991579\n",
      " 39089.15026136 39073.92917343 41489.56704825 39557.28563802\n",
      " 39735.32117292 39400.         39491.5215278  39591.49490916\n",
      " 41804.37325241 39655.01707152 39297.79501402 40051.25449688\n",
      " 40883.67474586 39855.4964026  39887.71621877 38183.19121441\n",
      " 39400.         39995.47732972 37938.11224199 39174.21141647\n",
      " 38608.01353475 39822.5241565  38977.31395374 39701.14796292\n",
      " 39879.0332565  39796.98068836 39756.56351948 39469.92016032\n",
      " 39356.86918015 39675.33305618 39193.89665295 39400.\n",
      " 39400.         39761.47042528 39603.61802424 40531.17817177\n",
      " 39792.91184343 37034.04442909 38982.51265012 39304.25268678\n",
      " 37497.21603126 39849.26370465 39496.21494403 40557.35958199\n",
      " 41418.75215783 40338.9995295  40108.94646289 39117.56151454\n",
      " 38478.91909244 38602.2224633  40202.47173128 39255.14689567\n",
      " 39203.97969518 39842.70128672 38880.01644797 42199.68209787\n",
      " 38116.49888488 38857.61188689 39444.79818561 36765.59995797\n",
      " 36901.18003836 38383.51456679 40444.75818262 40273.16592903\n",
      " 42424.50223875 39400.         39107.06184759 41492.52711737\n",
      " 39707.4137832  36642.49637485 38785.67146646 39019.32071008\n",
      " 38451.75917234 38944.5035974  39585.41210687 38495.69800918\n",
      " 39990.71571269 43510.87678013 38642.28434004 38625.90830308\n",
      " 39102.64009797 37597.60674154 40305.78701805 39449.65344072\n",
      " 39858.52554076 38614.59193291 38337.12244469 39193.17537809\n",
      " 40238.32949882 39400.         39262.71763115 38437.29940171\n",
      " 40423.43416429 36993.14493599 40676.96361954 41968.04757405\n",
      " 39626.11252876 39400.         40450.72893504 39526.89221918\n",
      " 39645.86663249 39800.00343568 39595.53390008 42430.41312539\n",
      " 39690.06265978 39703.46748227 39291.90665374 39400.\n",
      " 39475.69646901 39400.         39609.57496222 39022.96362996\n",
      " 39107.06184759 39675.71840999 39400.         40194.52738203\n",
      " 39507.21095051 38554.05503476 39507.79760486 38776.24027046\n",
      " 39784.39329285 38805.72025687 39763.13621113 39490.88816026\n",
      " 38964.63645425 39616.60307439 40341.87752163 39784.39329285\n",
      " 39346.86445587 40890.7200531  39602.57114032]\n"
     ]
    },
    {
     "data": {
      "text/plain": [
       "(251,)"
      ]
     },
     "execution_count": 99,
     "metadata": {},
     "output_type": "execute_result"
    }
   ],
   "source": [
    "# 4. 각 행의 값을 직전의 종가에 곱하여 251일의 에측 종가를 만들기\n",
    "predicted_close = df['close'][-1] * (1+ expect)\n",
    "\n",
    "#predicted_close = np.array (df['close'].shift(251).iloc[-1] ) * (1+ expect)\n",
    "#predicted_close = np.array (df['close'].shift(1)) * (1+ expect)\n",
    "\n",
    "#expectClose = (1+ pd.DataFrame(expect)) * df['close']\n",
    "print(predicted_close)\n",
    "predicted_close.shape"
   ]
  },
  {
   "cell_type": "code",
   "execution_count": 97,
   "id": "6dc6c3fd",
   "metadata": {},
   "outputs": [
    {
     "name": "stdout",
     "output_type": "stream",
     "text": [
      "날짜\n",
      "2020-12-18    48573.011662\n",
      "2020-12-21    49265.583306\n",
      "2020-12-22    50844.496020\n",
      "2020-12-23    52876.982089\n",
      "2020-12-24    52967.576618\n",
      "                  ...     \n",
      "2021-12-17    40085.901141\n",
      "2021-12-20    39784.393293\n",
      "2021-12-21    39346.864456\n",
      "2021-12-22    41202.070713\n",
      "2021-12-23    39602.571140\n",
      "Name: close, Length: 251, dtype: float64\n"
     ]
    },
    {
     "data": {
      "text/plain": [
       "(251,)"
      ]
     },
     "execution_count": 97,
     "metadata": {},
     "output_type": "execute_result"
    }
   ],
   "source": [
    "# 4. 각 행의 값을 직전의 종가에 곱하여 251일의 에측 종가를 만들기\n",
    "\n",
    "######종혁님의 설명이 필요!!!!!!!!!!! 연호님 등  dataframe으로 바꿔서 제출해야 할 듯\n",
    "#예측 종가 초기화\n",
    "#startInx = df['close'].shape[0]-251*2\n",
    "predicted_close = df['close'].shift(-251)[startInx:-251] * (1+ expect)\n",
    "\n",
    "#predicted_close = np.array (df['close'].shift(251).iloc[-1] ) * (1+ expect)\n",
    "#predicted_close = np.array (df['close'].shift(1)) * (1+ expect)\n",
    "\n",
    "#expectClose = (1+ pd.DataFrame(expect)) * df['close']\n",
    "print(predicted_close)\n",
    "predicted_close.shape"
   ]
  },
  {
   "cell_type": "code",
   "execution_count": 100,
   "id": "f601e085",
   "metadata": {},
   "outputs": [
    {
     "data": {
      "text/plain": [
       "[<matplotlib.lines.Line2D at 0x15c632d70>]"
      ]
     },
     "execution_count": 100,
     "metadata": {},
     "output_type": "execute_result"
    },
    {
     "data": {
      "image/png": "[encoded data removed]",
      "text/plain": [
       "<Figure size 640x480 with 1 Axes>"
      ]
     },
     "metadata": {},
     "output_type": "display_data"
    }
   ],
   "source": [
    "# 5. 251일의 주가 흐름을 line plot으로 그려보기\n",
    "\n",
    "# 5. 251일의 주가 흐름을 line plot으로 그려보기\n",
    "import matplotlib.pyplot as plt\n",
    "\n",
    "plt.plot(predicted_close)"
   ]
  },
  {
   "cell_type": "code",
   "execution_count": 104,
   "id": "d06b6997",
   "metadata": {},
   "outputs": [],
   "source": [
    "np.random.seed(3)\n",
    "\n",
    "\n",
    "def Boot(n):\n",
    "    df['return']=np.log(df['close']/df['close'].shift(1))    \n",
    "    for i in range(n):\n",
    "        expect = np.random.choice(df['return'], size=251)\n",
    "        predicted_close = df['close'][-1] * (1+ expect)\n",
    "        sum += predicted_close\n",
    "    return sum/n"
   ]
  },
  {
   "cell_type": "code",
   "execution_count": 105,
   "id": "d46359cf",
   "metadata": {},
   "outputs": [
    {
     "ename": "UnboundLocalError",
     "evalue": "local variable 'sum' referenced before assignment",
     "output_type": "error",
     "traceback": [
      "\u001b[0;31m---------------------------------------------------------------------------\u001b[0m",
      "\u001b[0;31mUnboundLocalError\u001b[0m                         Traceback (most recent call last)",
      "Cell \u001b[0;32mIn[105], line 1\u001b[0m\n\u001b[0;32m----> 1\u001b[0m \u001b[43mBoot\u001b[49m\u001b[43m(\u001b[49m\u001b[38;5;241;43m100\u001b[39;49m\u001b[43m)\u001b[49m\n",
      "Cell \u001b[0;32mIn[104], line 9\u001b[0m, in \u001b[0;36mBoot\u001b[0;34m(n)\u001b[0m\n\u001b[1;32m      7\u001b[0m     expect \u001b[38;5;241m=\u001b[39m np\u001b[38;5;241m.\u001b[39mrandom\u001b[38;5;241m.\u001b[39mchoice(df[\u001b[38;5;124m'\u001b[39m\u001b[38;5;124mreturn\u001b[39m\u001b[38;5;124m'\u001b[39m], size\u001b[38;5;241m=\u001b[39m\u001b[38;5;241m251\u001b[39m)\n\u001b[1;32m      8\u001b[0m     predicted_close \u001b[38;5;241m=\u001b[39m df[\u001b[38;5;124m'\u001b[39m\u001b[38;5;124mclose\u001b[39m\u001b[38;5;124m'\u001b[39m][\u001b[38;5;241m-\u001b[39m\u001b[38;5;241m1\u001b[39m] \u001b[38;5;241m*\u001b[39m (\u001b[38;5;241m1\u001b[39m\u001b[38;5;241m+\u001b[39m expect)\n\u001b[0;32m----> 9\u001b[0m     \u001b[38;5;28msum\u001b[39m \u001b[38;5;241m+\u001b[39m\u001b[38;5;241m=\u001b[39m predicted_close\n\u001b[1;32m     10\u001b[0m \u001b[38;5;28;01mreturn\u001b[39;00m \u001b[38;5;28msum\u001b[39m\u001b[38;5;241m/\u001b[39mn\n",
      "\u001b[0;31mUnboundLocalError\u001b[0m: local variable 'sum' referenced before assignment"
     ]
    }
   ],
   "source": [
    "Boot(100)"
   ]
  },
  {
   "cell_type": "code",
   "execution_count": null,
   "id": "f7544cf8",
   "metadata": {},
   "outputs": [],
   "source": []
  },
  {
   "cell_type": "code",
   "execution_count": null,
   "id": "1adae0e2",
   "metadata": {},
   "outputs": [],
   "source": []
  },
  {
   "cell_type": "code",
   "execution_count": null,
   "id": "f5540367",
   "metadata": {},
   "outputs": [],
   "source": [
    "# 6. 해당 시행을 1000번, 10000번 반복하여 251일째 (즉, 대략적인 영업일 기준 2023년 12월 31일)의 예측 종가를 히스토그램으로 그려보기 /\n",
    "\n",
    "df['return']=np.log(df['close']/df['close'].shift(1))\n",
    "np.random.seed(4)\n",
    "expect = np.random.choice(df['return'], size=251)\n",
    "predicted_close = np.array (df['close'].shift(251).iloc[-1] ) * (1+ expect)\n",
    "\n",
    "\n",
    "def boot(n):\n",
    "  \n",
    "  for j in range(n):\n",
    "    expect_boot = np.random.choice( df['return'], size=251)\n",
    "    np.array (df['close'].iloc[-1].shift(251) ) * (1+ expect)\n",
    "    \n",
    "    \n",
    "    \n",
    "    ex_list = (1+ex).tolist()\n",
    "    ex_last=[df['close'][-1]]\n",
    "    for i in range(251):\n",
    "      expect_l = ex_list[i]*ex_last[-1]\n",
    "      ex_last.append(expect_l)\n",
    "    lastlast.append(ex_last[-1])\n",
    "  return(lastlast)"
   ]
  },
  {
   "cell_type": "code",
   "execution_count": null,
   "id": "b703b031",
   "metadata": {},
   "outputs": [],
   "source": [
    "# 기타 지표 수집법 (다만, 이 지표는 아직까지 검증이 좀 필요함)\n",
    "fs = stock.get_market_fundamental(\"20220101\", \"20221231\", \"005930\")\n",
    "fs.tail()\n",
    "# BPS: Book value Per Share : 주당순자산\n",
    "# PER: Price Earning Ratio : 주가수익비율\n",
    "# PBR: Price on Book-value Ratio : 주가순자산비율\n",
    "# EPS: Earning Per Share : 주당순이익\n",
    "# DIV: Dividend : 배당수익률\n",
    "# DPS: Dividend Per Share : 주당배당금"
   ]
  },
  {
   "cell_type": "code",
   "execution_count": null,
   "id": "64d25ef8",
   "metadata": {},
   "outputs": [],
   "source": [
    "# \n",
    "df = stock.get_market_trading_value_by_date(\"20220101\", \"20221231\", \"005930\", on=\"매수\")\n",
    "df.tail()"
   ]
  },
  {
   "cell_type": "code",
   "execution_count": null,
   "id": "ee958867",
   "metadata": {},
   "outputs": [],
   "source": [
    "# 기타 국내외 주식정보 수집\n",
    "import FinanceDataReader as fdr\n",
    "\n",
    "# fdr.DataReader(주식 종목 [, 시작일(YYYY-mm-dd)] [,종료일(YYYY-mm-dd)])\n",
    "# fdr.StockListing(거래소이름(\"SSE\", \"SZSE\", ...))\n",
    "\n",
    "samsung = fdr.DataReader(\"005930\")\n",
    "samsung_period = fdr.DataReader(\"005930\", \"2022-01-01\", \"2022-12-31\")\n",
    "samsung_year = fdr.DataReader(\"005930\", \"2021\")\n",
    "\n",
    "# 뉴욕거래소 전체\n",
    "NYSE_df = fdr.StockListing('NYSE') "
   ]
  },
  {
   "cell_type": "code",
   "execution_count": null,
   "id": "496ec106",
   "metadata": {},
   "outputs": [],
   "source": [
    "NYSE_df.tail()"
   ]
  },
  {
   "cell_type": "code",
   "execution_count": null,
   "id": "fbc7ac86",
   "metadata": {},
   "outputs": [],
   "source": [
    "samsung_period.head()"
   ]
  },
  {
   "cell_type": "code",
   "execution_count": null,
   "id": "3483863e",
   "metadata": {},
   "outputs": [],
   "source": [
    "# yahoo finance 사용 - 해외특화\n",
    "from pandas_datareader import data as pdr\n",
    "import yfinance as yf\n",
    "yf.pdr_override()\n",
    "# yf의 메소드를 재정의해줌(이 부분이 필요!)\n",
    "\n",
    "# df = pdr.get_data_yahoo(주식 종목(한국주식의 경우 \".KS\") [, 시작일(YYYY-mm-dd)] [,종료일(YYYY-mm-dd)])\n",
    "\n",
    "# 예시\n",
    "df = pdr.get_data_yahoo(\"AAPL\", \"2022-01-01\", \"2022-12-31\")\n",
    "\n",
    "df"
   ]
  },
  {
   "cell_type": "code",
   "execution_count": null,
   "id": "17734d79",
   "metadata": {},
   "outputs": [],
   "source": []
  }
 ],
 "metadata": {
  "kernelspec": {
   "display_name": "Python 3 (ipykernel)",
   "language": "python",
   "name": "python3"
  },
  "language_info": {
   "codemirror_mode": {
    "name": "ipython",
    "version": 3
   },
   "file_extension": ".py",
   "mimetype": "text/x-python",
   "name": "python",
   "nbconvert_exporter": "python",
   "pygments_lexer": "ipython3",
   "version": "3.10.9"
  }
 },
 "nbformat": 4,
 "nbformat_minor": 5
}
